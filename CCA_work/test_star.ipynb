{
 "cells": [
  {
   "cell_type": "code",
   "execution_count": 1,
   "id": "72721d8b-8b7d-401c-ae16-f67121f7bea9",
   "metadata": {},
   "outputs": [],
   "source": [
    "import matplotlib.pyplot as plt\n",
    "from astropy import *\n",
    "import astropy.units as u\n",
    "from astropy.io import fits\n",
    "import numpy as np\n",
    "import glob as glob\n",
    "import pandas as pd\n",
    "from astropy.table import Table,vstack,hstack\n",
    "\n",
    "import subprocess\n",
    "import sys\n",
    "import os\n",
    "import logging\n",
    "import numpy as np\n",
    "\n",
    "from scipy.interpolate import interp1d\n",
    "import time\n",
    "from astropy.stats import sigma_clip\n",
    "import scipy\n",
    "from scipy.interpolate import interp1d\n",
    "from scipy import interpolate"
   ]
  },
  {
   "cell_type": "code",
   "execution_count": 2,
   "id": "839fcdc6-6911-4e6a-a1b3-935a90149731",
   "metadata": {},
   "outputs": [],
   "source": [
    "path = '/uufs/chpc.utah.edu/common/home/astro/zasowski/sinha/fits/'\n",
    "galah = Table.read(path + 'galah_dr4_allstar.fits')"
   ]
  },
  {
   "cell_type": "code",
   "execution_count": 3,
   "id": "a43ecbf7-ed93-4d97-8d31-b74427863b09",
   "metadata": {
    "scrolled": true
   },
   "outputs": [
    {
     "ename": "ModuleNotFoundError",
     "evalue": "No module named 'h5py'",
     "output_type": "error",
     "traceback": [
      "\u001b[31m---------------------------------------------------------------------------\u001b[39m",
      "\u001b[31mModuleNotFoundError\u001b[39m                       Traceback (most recent call last)",
      "\u001b[36mCell\u001b[39m\u001b[36m \u001b[39m\u001b[32mIn[3]\u001b[39m\u001b[32m, line 3\u001b[39m\n\u001b[32m      1\u001b[39m ispec_dir = \u001b[33m'\u001b[39m\u001b[33m/uufs/astro.utah.edu/common/home/u1363702/iSpec\u001b[39m\u001b[33m'\u001b[39m\n\u001b[32m      2\u001b[39m sys.path.append(ispec_dir)\n\u001b[32m----> \u001b[39m\u001b[32m3\u001b[39m \u001b[38;5;28;01mimport\u001b[39;00m\u001b[38;5;250m \u001b[39m\u001b[34;01mispec\u001b[39;00m\n\u001b[32m      4\u001b[39m \u001b[38;5;28;01mdef\u001b[39;00m\u001b[38;5;250m \u001b[39m\u001b[34mdetermine_radial_velocity_with_template\u001b[39m(waves, fluxes):\n\u001b[32m      5\u001b[39m     mu_cas_spectrum = Table([waves*\u001b[32m.1\u001b[39m, fluxes, np.repeat(\u001b[32m0\u001b[39m,\u001b[38;5;28mlen\u001b[39m(fluxes))], names=(\u001b[33m'\u001b[39m\u001b[33mwaveobs\u001b[39m\u001b[33m'\u001b[39m, \u001b[33m'\u001b[39m\u001b[33mflux\u001b[39m\u001b[33m'\u001b[39m, \u001b[33m'\u001b[39m\u001b[33merr\u001b[39m\u001b[33m'\u001b[39m))\n",
      "\u001b[36mFile \u001b[39m\u001b[32m~/iSpec/ispec/__init__.py:34\u001b[39m\n\u001b[32m     30\u001b[39m         basedir = os.path.dirname(\u001b[34m__file__\u001b[39m)\n\u001b[32m     31\u001b[39m     \u001b[38;5;28;01mreturn\u001b[39;00m os.path.join(basedir, relative)\n\u001b[32m---> \u001b[39m\u001b[32m34\u001b[39m \u001b[38;5;28;01mfrom\u001b[39;00m\u001b[38;5;250m \u001b[39m\u001b[34;01m.\u001b[39;00m\u001b[34;01mabundances\u001b[39;00m\u001b[38;5;250m \u001b[39m\u001b[38;5;28;01mimport\u001b[39;00m determine_abundances\n\u001b[32m     35\u001b[39m \u001b[38;5;28;01mfrom\u001b[39;00m\u001b[38;5;250m \u001b[39m\u001b[34;01m.\u001b[39;00m\u001b[34;01mabundances\u001b[39;00m\u001b[38;5;250m \u001b[39m\u001b[38;5;28;01mimport\u001b[39;00m read_solar_abundances\n\u001b[32m     36\u001b[39m \u001b[38;5;28;01mfrom\u001b[39;00m\u001b[38;5;250m \u001b[39m\u001b[34;01m.\u001b[39;00m\u001b[34;01mcommon\u001b[39;00m\u001b[38;5;250m \u001b[39m\u001b[38;5;28;01mimport\u001b[39;00m enhance_solar_abundances\n",
      "\u001b[36mFile \u001b[39m\u001b[32m~/iSpec/ispec/abundances.py:19\u001b[39m\n\u001b[32m      1\u001b[39m \u001b[38;5;66;03m#\u001b[39;00m\n\u001b[32m      2\u001b[39m \u001b[38;5;66;03m#    This file is part of iSpec.\u001b[39;00m\n\u001b[32m      3\u001b[39m \u001b[38;5;66;03m#    Copyright Sergi Blanco-Cuaresma - http://www.blancocuaresma.com/s/\u001b[39;00m\n\u001b[32m   (...)\u001b[39m\u001b[32m     16\u001b[39m \u001b[38;5;66;03m#    along with iSpec. If not, see <http://www.gnu.org/licenses/>.\u001b[39;00m\n\u001b[32m     17\u001b[39m \u001b[38;5;66;03m#\u001b[39;00m\n\u001b[32m     18\u001b[39m \u001b[38;5;28;01mimport\u001b[39;00m\u001b[38;5;250m \u001b[39m\u001b[34;01mnumpy\u001b[39;00m\u001b[38;5;250m \u001b[39m\u001b[38;5;28;01mas\u001b[39;00m\u001b[38;5;250m \u001b[39m\u001b[34;01mnp\u001b[39;00m\n\u001b[32m---> \u001b[39m\u001b[32m19\u001b[39m \u001b[38;5;28;01mfrom\u001b[39;00m\u001b[38;5;250m \u001b[39m\u001b[34;01m.\u001b[39;00m\u001b[34;01matmospheres\u001b[39;00m\u001b[38;5;250m \u001b[39m\u001b[38;5;28;01mimport\u001b[39;00m *\n\u001b[32m     20\u001b[39m \u001b[38;5;28;01mfrom\u001b[39;00m\u001b[38;5;250m \u001b[39m\u001b[34;01m.\u001b[39;00m\u001b[34;01mlines\u001b[39;00m\u001b[38;5;250m \u001b[39m\u001b[38;5;28;01mimport\u001b[39;00m write_atomic_linelist\n\u001b[32m     21\u001b[39m \u001b[38;5;28;01mfrom\u001b[39;00m\u001b[38;5;250m \u001b[39m\u001b[34;01m.\u001b[39;00m\u001b[34;01mcommon\u001b[39;00m\u001b[38;5;250m \u001b[39m\u001b[38;5;28;01mimport\u001b[39;00m is_spectrum_support_enabled, is_moog_support_enabled, is_moog_scat_support_enabled, is_width_support_enabled\n",
      "\u001b[36mFile \u001b[39m\u001b[32m~/iSpec/ispec/atmospheres.py:35\u001b[39m\n\u001b[32m     33\u001b[39m \u001b[38;5;28;01mfrom\u001b[39;00m\u001b[38;5;250m \u001b[39m\u001b[34;01mscipy\u001b[39;00m\u001b[34;01m.\u001b[39;00m\u001b[34;01minterpolate\u001b[39;00m\u001b[38;5;250m \u001b[39m\u001b[38;5;28;01mimport\u001b[39;00m LinearNDInterpolator\n\u001b[32m     34\u001b[39m \u001b[38;5;28;01mimport\u001b[39;00m\u001b[38;5;250m \u001b[39m\u001b[34;01mglob\u001b[39;00m\n\u001b[32m---> \u001b[39m\u001b[32m35\u001b[39m \u001b[38;5;28;01mimport\u001b[39;00m\u001b[38;5;250m \u001b[39m\u001b[34;01mh5py\u001b[39;00m\n\u001b[32m     36\u001b[39m \u001b[38;5;28;01mimport\u001b[39;00m\u001b[38;5;250m \u001b[39m\u001b[34;01mhdf5plugin\u001b[39;00m \u001b[38;5;66;03m# required to be able to read hdf5 files compressed with lz4 (NLTE departure coefficient grids), even if it is not explicitly used in the reading code here\u001b[39;00m\n\u001b[32m     37\u001b[39m \u001b[38;5;28;01mfrom\u001b[39;00m\u001b[38;5;250m \u001b[39m\u001b[34;01m.\u001b[39;00m\u001b[34;01mcommon\u001b[39;00m\u001b[38;5;250m \u001b[39m\u001b[38;5;28;01mimport\u001b[39;00m is_turbospectrum_support_enabled, is_spectrum_support_enabled, enhance_solar_abundances\n",
      "\u001b[31mModuleNotFoundError\u001b[39m: No module named 'h5py'"
     ]
    }
   ],
   "source": [
    "ispec_dir = '/uufs/astro.utah.edu/common/home/u1363702/iSpec'\n",
    "sys.path.append(ispec_dir)\n",
    "import ispec\n",
    "def determine_radial_velocity_with_template(waves, fluxes):\n",
    "    mu_cas_spectrum = Table([waves*.1, fluxes, np.repeat(0,len(fluxes))], names=('waveobs', 'flux', 'err'))\n",
    "    #--- Radial Velocity determination with template -------------------------------\n",
    "    #logging.info(\"Radial velocity determination with template...\")\n",
    "    # - Read synthetic template\n",
    "    # template = ispec.read_spectrum(ispec_dir + \"/input/spectra/templates/Atlas.Arcturus.372_926nm/template.txt.gz\")\n",
    "    template = ispec.read_spectrum(path + 'template.txt.gz')\n",
    "    #template = ispec.read_spectrum(ispec_dir + \"/input/spectra/templates/NARVAL.Sun.370_1048nm/template.txt.gz\")\n",
    "    #template = ispec.read_spectrum(ispec_dir + \"/input/spectra/templates/Synth.Sun.300_1100nm/template.txt.gz\")\n",
    "\n",
    "    models, ccf = ispec.cross_correlate_with_template(mu_cas_spectrum, template, \\\n",
    "                            lower_velocity_limit=-200, upper_velocity_limit=200, \\\n",
    "                            velocity_step=1.0, fourier=False)\n",
    "\n",
    "    # Number of models represent the number of components\n",
    "    components = len(models)\n",
    "    # First component:\n",
    "    rv = np.round(models[0].mu(), 2) # km/s\n",
    "    rv_err = np.round(models[0].emu(), 2) # km/s\n",
    "    return rv, rv_err"
   ]
  },
  {
   "cell_type": "code",
   "execution_count": 3,
   "id": "ac6af295-6698-4846-a489-bbca05401197",
   "metadata": {},
   "outputs": [],
   "source": [
    "# /! ls /uufs/chpc.utah.edu/common/home/astro/zasowski/sinha/fits/old_files/galah/dr4/spectra/hermes/all\n",
    "import glob\n",
    "spectra_path = '/uufs/chpc.utah.edu/common/home/astro/zasowski/sinha/fits/old_files/galah/dr4/spectra/'\n",
    "filenames = glob.glob(spectra_path + '/*1.fits')"
   ]
  },
  {
   "cell_type": "code",
   "execution_count": 5,
   "id": "6569a239-abaf-43c5-8dc8-590eb9ffba3d",
   "metadata": {},
   "outputs": [],
   "source": [
    "star = 131217003900021"
   ]
  },
  {
   "cell_type": "code",
   "execution_count": 6,
   "id": "d91e5d1b-9d5f-4a59-85db-f05ef8493ae0",
   "metadata": {},
   "outputs": [],
   "source": [
    "spectra_path = '/uufs/chpc.utah.edu/common/home/astro/zasowski/sinha/fits/old_files/galah/dr4/spectra/'\n",
    "def get_spectra(obj_id):\n",
    "    wavelengths = []\n",
    "    fluxes = []\n",
    "    uncertainties = []\n",
    "    gaia_id = 0\n",
    "    for i in range(1,5):\n",
    "        try:\n",
    "            pathway = '/uufs/chpc.utah.edu/common/home/astro/zasowski/sinha/fits/old_files/galah/dr4/spectra/hermes/all/{}{}.fits'.format(obj_id,i)\n",
    "            hdu = fits.open(pathway)\n",
    "            flux = hdu[1].data\n",
    "            err = hdu[2].data * flux\n",
    "\n",
    "            gaia_id = hdu[0].header['GAIA_ID']\n",
    "            wave = []\n",
    "            for j in range(len(flux)):\n",
    "                lamda = hdu[1].header['CRVAL1'] + hdu[1].header['CDELT1']*j\n",
    "                wave.append(lamda)\n",
    "            wave = np.array(wave)\n",
    "            wavelengths.append(wave)\n",
    "            fluxes.append(flux)\n",
    "            uncertainties.append(err**2)\n",
    "        except:\n",
    "            print('no HDU {} for {}'.format(i,obj_id))\n",
    "\n",
    "    if len(wavelengths) > 0:\n",
    "        wavelength = np.concatenate(wavelengths)\n",
    "        flux = np.concatenate(fluxes)\n",
    "        uncertainty = np.concatenate(uncertainties)\n",
    "\n",
    "        rv, rv_err = determine_radial_velocity_with_template(wavelength, flux)\n",
    "        corr_data = ispec.correct_velocity(Table([wavelength, flux, uncertainty], names=['waveobs','flux', 'err']), rv)\n",
    "\n",
    "        waves = corr_data['waveobs']\n",
    "        flux = corr_data['flux']\n",
    "        flux_err = corr_data['err']\n",
    "\n",
    "        data = np.dstack((waves,flux,flux_err))[0]\n",
    "\n",
    "        star_id = '/galah_id_{}'.format(obj_id)\n",
    "\n",
    "        filename = spectra_path+star_id + '.txt'\n",
    "        np.savetxt(filename, data)\n",
    "        return gaia_id, data\n",
    "    else:\n",
    "        return gaia_id, [0,0,0]"
   ]
  },
  {
   "cell_type": "code",
   "execution_count": 7,
   "id": "0661c359-bd34-4c4b-b669-8b26cb714c52",
   "metadata": {},
   "outputs": [],
   "source": [
    "gaia_id, data = get_spectra(star)\n",
    "\n",
    "# rv, rv_err = determine_radial_velocity_with_template(data[:,0], data[:,1])"
   ]
  },
  {
   "cell_type": "code",
   "execution_count": 11,
   "id": "163c1416-3126-4f5e-9465-c13eae06204f",
   "metadata": {},
   "outputs": [],
   "source": [
    "# ispec.correct_velocity(Table([waves,fluxes, np.zeros(len(fluxes))], names=['waveobs','flux', 'err']), rv)\n",
    "# corr_data = ispec.correct_velocity(Table([data[:,0], data[:,1], data[:,2]], names=['waveobs','flux', 'err']), rv)\n",
    "data = np.loadtxt(spectra_path + 'galah_id_131217003900021.txt')"
   ]
  },
  {
   "cell_type": "code",
   "execution_count": 13,
   "id": "cd469b9e-ee17-4d84-911b-ab23c222ea74",
   "metadata": {},
   "outputs": [
    {
     "data": {
      "text/plain": [
       "(0.0, 1.3)"
      ]
     },
     "execution_count": 13,
     "metadata": {},
     "output_type": "execute_result"
    },
    {
     "data": {
      "image/png": "[encoded data removed]",
      "text/plain": [
       "<Figure size 640x480 with 1 Axes>"
      ]
     },
     "metadata": {},
     "output_type": "display_data"
    }
   ],
   "source": [
    "### halpha_true = 6562.8\n",
    "\n",
    "# truth = (data[:,0] < halpha + 10) & (data[:,0] > halpha - 10)\n",
    "# local_halpha = data[truth]\n",
    "\n",
    "# halpha_obs = local_halpha[:,0][np.argmin(local_halpha[:,1])]\n",
    "\n",
    "# delta = halpha_obs - halpha_true\n",
    "# delta_per_lambda = delta / halpha_obs\n",
    "\n",
    "# corrected_wavelengths = data[:,0] - (data[:,0]*delta_per_lambda)\n",
    "\n",
    "\n",
    "plt.figure()\n",
    "plt.plot(data[:,0],data[:,1])\n",
    "plt.axvline(x=6625.0)\n",
    "plt.xlim(6625.0- 10, 6625.0+10)\n",
    "plt.ylim(0, 1.3)"
   ]
  },
  {
   "cell_type": "code",
   "execution_count": null,
   "id": "0490d6e6-fd8f-4827-8719-36d36b1e2f34",
   "metadata": {},
   "outputs": [],
   "source": [
    "import PyBACCHUS\n",
    "from PyBACCHUS.bacchus import BACCHUS\n",
    "from PyBACCHUS.star import Star"
   ]
  },
  {
   "cell_type": "code",
   "execution_count": null,
   "id": "7dd00c51-2b74-49ab-bbc7-230226a465b9",
   "metadata": {},
   "outputs": [],
   "source": [
    "bpath = '/uufs/chpc.utah.edu/common/home/astro/zasowski/sinha/bacchus_files/b_0/'"
   ]
  },
  {
   "cell_type": "code",
   "execution_count": null,
   "id": "cfc88977-1678-4467-ac84-a75cc1730b6e",
   "metadata": {},
   "outputs": [],
   "source": [
    "bacchus = BACCHUS(bpath)"
   ]
  },
  {
   "cell_type": "code",
   "execution_count": null,
   "id": "5741921a-1a5a-4919-9186-453104e1455c",
   "metadata": {
    "scrolled": true
   },
   "outputs": [],
   "source": [
    "# linelists = bacchus.linelists.display_all_linelists()\n",
    "# linelist = 'GAIA-ESO/v5/ges_atom_hfs-iso_v5_t1.txt_newalternate.bsyn~'\n",
    "\n",
    "# bacchus.init.set_ncpu(10)\n",
    "# bacchus.init.set_linelist(linelist)\n",
    "# bacchus.init.set_nonorm(0)\n",
    "# bacchus.init.set_METALLICunknown(0)\n",
    "# bacchus.init.set_CONVOLunknown(1)\n",
    "# bacchus.bsyn.remove_lines('linelists/GAIA-ESO/v5/ges_atom_hfs-iso_v5_t1.txt_newalternate.bsyn~')\n",
    "# bacchus.bsyn.nfiles = 164\n",
    "# bacchus.bsyn.edit(99, \"'NFILES   :' '164'\\n\")\n",
    "# bacchus.bsyn.show()"
   ]
  },
  {
   "cell_type": "code",
   "execution_count": null,
   "id": "23cde541-bdc6-4395-a6c0-8f278140aaab",
   "metadata": {
    "scrolled": true
   },
   "outputs": [],
   "source": [
    "# bacchus.bsyn.write()\n",
    "# bacchus.init.write()"
   ]
  },
  {
   "cell_type": "code",
   "execution_count": null,
   "id": "f14d67d2-422d-40eb-8298-02e7bf5475df",
   "metadata": {},
   "outputs": [],
   "source": [
    "### star\n",
    "star = Star('galah_id_131217003900021')\n",
    "dr4_params = galah[np.isin(galah['gaiadr3_source_id'], gaia_id)]\n",
    "dr4_params\n",
    "\n",
    "teff = (dr4_params['teff'][0], dr4_params['e_teff'][0])\n",
    "logg = (dr4_params['logg'][0], dr4_params['e_logg'][0])\n",
    "m_h = (dr4_params['fe_h'][0], dr4_params['e_fe_h'][0])\n",
    "vmicro = (dr4_params['vmic'][0], dr4_params['e_vmic'][0])\n",
    "conv = (-15,5)\n",
    "star_spectra_path = '/uufs/chpc.utah.edu/common/home/astro/zasowski/sinha/fits/old_files/galah/dr4/spectra/galah_id_131217003900021.txt'"
   ]
  },
  {
   "cell_type": "code",
   "execution_count": null,
   "id": "8bb94974-e01a-4346-ba02-f509bb719e8c",
   "metadata": {},
   "outputs": [],
   "source": [
    "star.set_initial_values(star_spectra_path,teff,logg,m_h,vmicro,conv)"
   ]
  },
  {
   "cell_type": "code",
   "execution_count": null,
   "id": "f435a58a-66ee-4b0c-a18a-02696f611791",
   "metadata": {},
   "outputs": [],
   "source": [
    "bacchus.stellar_parameters.add_star(star)\n",
    "bacchus.stellar_parameters.write()"
   ]
  },
  {
   "cell_type": "code",
   "execution_count": null,
   "id": "a2c2d336-6e0b-41be-b621-030004b9ffcd",
   "metadata": {},
   "outputs": [],
   "source": [
    "bacchus.load_parameters(star)"
   ]
  },
  {
   "cell_type": "code",
   "execution_count": null,
   "id": "38d0f1f1-1270-4bee-80d0-4ac89d654a57",
   "metadata": {},
   "outputs": [],
   "source": []
  }
 ],
 "metadata": {
  "kernelspec": {
   "display_name": "Python 3 (ipykernel)",
   "language": "python",
   "name": "python3"
  },
  "language_info": {
   "codemirror_mode": {
    "name": "ipython",
    "version": 3
   },
   "file_extension": ".py",
   "mimetype": "text/x-python",
   "name": "python",
   "nbconvert_exporter": "python",
   "pygments_lexer": "ipython3",
   "version": "3.12.5"
  }
 },
 "nbformat": 4,
 "nbformat_minor": 5
}
