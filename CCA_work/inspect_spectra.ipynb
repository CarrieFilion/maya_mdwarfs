{
 "cells": [
  {
   "cell_type": "code",
   "execution_count": 1,
   "id": "1baa0df7-56b3-4fa7-97fb-ec2ffdfdd2e0",
   "metadata": {},
   "outputs": [],
   "source": [
    "from juliacall import Main as jl\n",
    "jl.seval(\"using Korg\")\n",
    "Korg = jl.Korg"
   ]
  },
  {
   "cell_type": "code",
   "execution_count": 2,
   "id": "75bb6009-7848-442c-b1ea-ef6b285faa18",
   "metadata": {},
   "outputs": [],
   "source": [
    "import matplotlib.pyplot as plt\n",
    "from astropy import *\n",
    "import astropy.units as u\n",
    "from astropy.io import fits\n",
    "import numpy as np\n",
    "import glob as glob\n",
    "import pandas as pd\n",
    "from astropy.table import Table,vstack,hstack\n",
    "\n",
    "import subprocess\n",
    "import sys\n",
    "import os\n",
    "import logging\n",
    "import numpy as np\n",
    "\n",
    "from scipy.interpolate import interp1d\n",
    "import time\n",
    "from astropy.stats import sigma_clip\n",
    "import scipy\n",
    "from scipy.interpolate import interp1d\n",
    "from scipy import interpolate\n",
    "\n",
    "path = '/uufs/chpc.utah.edu/common/home/astro/zasowski/sinha/fits/'\n",
    "plots_path = 'plots/'\n",
    "\n",
    "plt.style.use(path +'paper_style.mplstyle')\n",
    "plt.rcParams[\"font.family\"] = \"STIXGeneral\"\n",
    "plt.rcParams['text.usetex'] = True"
   ]
  },
  {
   "cell_type": "code",
   "execution_count": 3,
   "id": "6915a5b4-daf9-4799-b334-2af8be1b764e",
   "metadata": {},
   "outputs": [],
   "source": [
    "lines = Korg.get_GALAH_DR3_linelist()"
   ]
  },
  {
   "cell_type": "code",
   "execution_count": 4,
   "id": "02f493f8-b1e2-482e-8c4d-4e1a49785581",
   "metadata": {},
   "outputs": [],
   "source": [
    "waves = Korg.Wavelengths(np.arange(4600, 7900.1, 0.2))\n",
    "lsf_matrix = Korg.compute_LSF_matrix(waves, waves, 28_000)"
   ]
  },
  {
   "cell_type": "code",
   "execution_count": 5,
   "id": "d7bbdcf4-1565-41fc-8d6f-890798067cf5",
   "metadata": {},
   "outputs": [],
   "source": [
    "# galah = Table.read(path + 'galah_dr4_allstar.fits')\n",
    "cluster_members = Table.read('galah_members_isochrone_parameters.fits')"
   ]
  },
  {
   "cell_type": "code",
   "execution_count": 6,
   "id": "cb41075e-373e-49e6-afba-6fd3e5c5970b",
   "metadata": {},
   "outputs": [],
   "source": [
    "spectra_path = '/uufs/chpc.utah.edu/common/home/astro/zasowski/sinha/spectra/'"
   ]
  },
  {
   "cell_type": "code",
   "execution_count": 7,
   "id": "77fdcc00-6ce6-41ca-96a6-613adcea9ba1",
   "metadata": {},
   "outputs": [],
   "source": [
    "def get_vmicro(logg):\n",
    "    return np.round(2.488 - 0.8665*logg+ 0.1567*logg**2,3)\n",
    "\n",
    "cluster_members['iso_vmicro'] = get_vmicro(cluster_members['iso_logg'])"
   ]
  },
  {
   "cell_type": "code",
   "execution_count": 8,
   "id": "fc0ded5f-42e0-4162-b7ce-cfd230569e1c",
   "metadata": {},
   "outputs": [],
   "source": [
    "def get_synth_spectrum(star, feh):\n",
    "    abunds = Korg.format_A_X(feh)\n",
    "    atmosphere =  Korg.interpolate_marcs(star['iso_teff'], star['iso_logg'], abunds)\n",
    "    spectrum = Korg.synthesize(atmosphere, lines,abunds, waves,vmic=star['iso_vmicro'])\n",
    "    norm_flux = np.array(spectrum.flux) / np.array(spectrum.cntm)\n",
    "    norm_flux = np.array(Korg.apply_LSF(norm_flux, waves, 28_000))\n",
    "    norm_flux = Korg.apply_rotation(norm_flux, waves, star['vsini'])\n",
    "    return norm_flux\n",
    "\n",
    "def vac2air(waves):\n",
    "    air = waves / ( 1.0 +  5.792105E-2/(238.0185 - (1E4/waves)**2) + 1.67917E-3/(57.362 - (1E4/waves)**2))\n",
    "    return air\n",
    "\n",
    "from scipy.interpolate import CubicSpline\n",
    "def get_chi2(obs_waves, obs_flux, synth_waves, synth_fluxes):\n",
    "    cs = CubicSpline(synth_waves,synth_fluxes)\n",
    "    resampled_synth_flux = cs(obs_waves)\n",
    "        \n",
    "    chi2 = sum((obs_flux - resampled_synth_flux)**2) / len(resampled_synth_flux)\n",
    "    return chi2\n",
    "\n",
    "synth_wavelengths = np.arange(4600, 7900.1, 0.2)\n",
    "air_synth_wavelengths = vac2air(synth_wavelengths)"
   ]
  },
  {
   "cell_type": "code",
   "execution_count": 9,
   "id": "c4a51e46-cb8a-44b5-ac71-0bb2005c9c37",
   "metadata": {},
   "outputs": [],
   "source": [
    "# ! cd "
   ]
  },
  {
   "cell_type": "code",
   "execution_count": 30,
   "id": "6870a301-2c5d-49bd-a643-2f4bbd799a50",
   "metadata": {},
   "outputs": [
    {
     "name": "stderr",
     "output_type": "stream",
     "text": [
      "<>:77: SyntaxWarning: invalid escape sequence '\\A'\n",
      "<>:77: SyntaxWarning: invalid escape sequence '\\A'\n",
      "/scratch/local/u1363702/6665116/ipykernel_3900180/1867466669.py:77: SyntaxWarning: invalid escape sequence '\\A'\n",
      "  ax[3][col].set_xlabel('Wavelength [$\\AA$]',fontsize=25)\n"
     ]
    }
   ],
   "source": [
    "def get_star_data(star):\n",
    "    fname = spectra_path + 'galah_id_{}.txt'.format(star['sobject_id'])\n",
    "    data = np.loadtxt(fname)\n",
    "    return data\n",
    "\n",
    "def make_synth_fluxes(star):\n",
    "    fluxes = []\n",
    "    mets = np.arange(-1,0.75,0.25)\n",
    "    for i in mets:\n",
    "        synth_flux = get_synth_spectrum(star,i)\n",
    "        fluxes.append(synth_flux)\n",
    "    return fluxes\n",
    "\n",
    "def get_metallicity(data, air_synth_wavelengths, fluxes):\n",
    "    fe_ccd1 = [4779.439, 4788.757]\n",
    "    fe_ccd2 = [5651.469, 5661.348, 5679.023, 5696.089, 5701.544, 5705.464, 5778.453, 5784.658, 5793.914, \n",
    "5809.218, 5852.219, 5855.076]\n",
    "    fe_ccd3 = [6498.939, 6593.871, 6597.561, 6625.022, 6677.987, 6703.567, \n",
    "6705.102, 6710.319, 6713.745, 6725.357, 6726.667, 6733.151]\n",
    "    fe_lines = np.concatenate([fe_ccd1,fe_ccd2,fe_ccd3])\n",
    "\n",
    "    best_fit_met = []\n",
    "    mets = np.arange(-1,0.75,0.25)\n",
    "    for i in fe_lines:\n",
    "        obs_truth = (data[:,0] < i+1) & (data[:,0] > i-1)\n",
    "        synth_truth = (air_synth_wavelengths < i+1) & (air_synth_wavelengths > i-1)\n",
    "        chi2s = []\n",
    "        for j in range(len(fluxes)):\n",
    "            chi2 = get_chi2(data[:,0][obs_truth],data[:,1][obs_truth], air_synth_wavelengths[synth_truth],np.array(fluxes[j])[synth_truth])\n",
    "            chi2s.append(chi2)\n",
    "        cs = CubicSpline(mets, chi2s)\n",
    "        interp_met = np.arange(-1,0.501,0.001)\n",
    "        interp_chi2 = cs(interp_met)\n",
    "        idx = np.argmin(interp_chi2)\n",
    "        best_fit_met.append(interp_met[idx])\n",
    "    return best_fit_met\n",
    "\n",
    "def make_plot(star, air_synth_wavelengths, best_fit_feh):\n",
    "\n",
    "    best_fit_synth_flux = get_synth_spectrum(star,np.round(best_fit_feh,3))\n",
    "    dr4_synth_flux = get_synth_spectrum(star,float(star['fe_h']))\n",
    "    \n",
    "    fe_ccd1 = [4779.439, 4788.757]\n",
    "    fe_ccd2 = [5651.469, 5661.348, 5679.023, 5696.089, 5701.544, 5705.464, 5778.453, 5784.658, 5793.914, \n",
    "5809.218, 5852.219, 5855.076]\n",
    "    fe_ccd3 = [6498.939, 6593.871, 6597.561, 6625.022, 6677.987, 6703.567, \n",
    "6705.102, 6710.319, 6713.745, 6725.357, 6726.667, 6733.151]\n",
    "    fe_lines = np.concatenate([fe_ccd1,fe_ccd2,fe_ccd3])\n",
    "    \n",
    "    row = 0\n",
    "    col = 0\n",
    "    fig, ax = plt.subplots(4,7,figsize=(25,25))\n",
    "    teff = np.round(star['iso_teff'],1)\n",
    "    logg = np.round(star['iso_logg'],1)\n",
    "    feh = np.round(star['fe_h'],1)\n",
    "    plt.suptitle('GALAH ID: {}; Teff: {}, logg: {}, Galah [M/H]: {}, Estimated [Fe/H]: {}'.format(star['sobject_id'],\n",
    "                                                                teff,\n",
    "                                                                logg,\n",
    "                                                                np.round(feh,2), \n",
    "                                                                np.round(best_fit_feh,2)\n",
    "                                                               ),fontsize=25)\n",
    "\n",
    "\n",
    "    for i in fe_lines:\n",
    "        obs_truth = (data[:,0] < i+3) & (data[:,0] > i-3)\n",
    "        synth_truth = (air_synth_wavelengths < i+3) & (air_synth_wavelengths > i-3)\n",
    "\n",
    "\n",
    "        ax[row][col].set_title(i,fontsize=25)\n",
    "        ax[row][col].plot(data[:,0][obs_truth],data[:,1][obs_truth],c='black')\n",
    "    \n",
    "        ax[row][col].plot(air_synth_wavelengths[synth_truth],np.array(best_fit_synth_flux)[synth_truth],alpha=0.75,c='brown',linestyle='--')\n",
    "        ax[row][col].plot(air_synth_wavelengths[synth_truth],np.array(dr4_synth_flux)[synth_truth],alpha=0.75,c='red',linestyle='-.')\n",
    "        ax[row][col].axvline(x=i, linestyle='--',c='blue')\n",
    "        ax[row][col].set_xlim(i-3, i+3)\n",
    "        ax[row][col].set_ylim(0.2,1.2)\n",
    "        ax[3][col].set_xlabel('Wavelength [$\\AA$]',fontsize=25)\n",
    "\n",
    "        col+=1\n",
    "        if col == 7:\n",
    "            col = 0\n",
    "            row +=1\n",
    "    plot_path = '/uufs/astro.utah.edu/common/home/u1363702/notebooks/CCA_work/atmospheric_parameter_fits/'\n",
    "    fname = plot_path + 'galah_id_{}.pdf'.format(star['sobject_id'])\n",
    "    plt.savefig(fname)\n",
    "    plt.close()"
   ]
  },
  {
   "cell_type": "code",
   "execution_count": 31,
   "id": "dd2c2152-4aff-45aa-bb59-d32267d2a432",
   "metadata": {
    "scrolled": true
   },
   "outputs": [
    {
     "name": "stdout",
     "output_type": "stream",
     "text": [
      "1/30\n",
      "2/30\n",
      "3/30\n",
      "4/30\n",
      "5/30\n",
      "6/30\n",
      "7/30\n",
      "8/30\n",
      "9/30\n",
      "bad star! 150109001001175\n",
      "10/30\n",
      "11/30\n",
      "12/30\n",
      "13/30\n",
      "14/30\n",
      "15/30\n",
      "16/30\n",
      "17/30\n",
      "18/30\n",
      "bad star! 190205001601083\n",
      "19/30\n",
      "20/30\n",
      "21/30\n",
      "22/30\n",
      "23/30\n",
      "24/30\n",
      "25/30\n",
      "26/30\n",
      "bad star! 210421006401233\n",
      "27/30\n",
      "28/30\n",
      "29/30\n",
      "bad star! 210421008001176\n",
      "30/30\n"
     ]
    }
   ],
   "source": [
    "median_met = []\n",
    "all_met = []\n",
    "count = 0\n",
    "for i in cluster_members:\n",
    "    try:\n",
    "        data = get_star_data(i)\n",
    "        fluxes = make_synth_fluxes(i)\n",
    "        best_fit_met = get_metallicity(data, air_synth_wavelengths, fluxes)\n",
    "\n",
    "        best_fit_met = np.array(best_fit_met)\n",
    "        best_fit_met = np.round(best_fit_met,3)\n",
    "        all_met.append(best_fit_met)\n",
    "        median_met.append(np.nanmedian(best_fit_met))\n",
    "        \n",
    "        make_plot(i, air_synth_wavelengths, np.nanmedian(best_fit_met))\n",
    "    except:\n",
    "        all_met.append([np.nan])\n",
    "        median_met.append(np.nan)\n",
    "        print('bad star! {}'.format(i['sobject_id']))\n",
    "    count +=1\n",
    "    print('{}/{}'.format(count, len(cluster_members)))"
   ]
  },
  {
   "cell_type": "code",
   "execution_count": 32,
   "id": "69cf9b79-0f0c-4f53-9934-98fb528db1f4",
   "metadata": {},
   "outputs": [],
   "source": [
    "# star = cluster_members[3]\n",
    "# fname = spectra_path + 'galah_id_{}.txt'.format(star['sobject_id'])\n",
    "\n",
    "# teff = np.round(star['iso_teff'],1)\n",
    "# logg = np.round(star['iso_logg'],1)\n",
    "# feh = np.round(star['fe_h'],1)\n",
    "\n",
    "# data = np.loadtxt(fname)\n",
    "cluster_members['lin_by_line_fe_h'] = all_met\n",
    "cluster_members['best_fit_fe_h'] = median_met"
   ]
  },
  {
   "cell_type": "code",
   "execution_count": 33,
   "id": "d826bcd4-c5df-4140-84ec-641a83f03381",
   "metadata": {},
   "outputs": [],
   "source": [
    "# fluxes = []\n",
    "# mets = np.arange(-1,0.75,0.25)\n",
    "# for i in mets:\n",
    "#     synth_flux = get_synth_spectrum(star,i)\n",
    "#     fluxes.append(synth_flux)\n",
    "cluster_members.write('galah_members_isochrone_parameters_feh_fitted.fits',overwrite=True)"
   ]
  },
  {
   "cell_type": "code",
   "execution_count": 34,
   "id": "844a52b4-b393-4f7b-9007-9f55f3edff66",
   "metadata": {},
   "outputs": [],
   "source": [
    "# fe_ccd1 = [4779.439, 4788.757]\n",
    "# fe_ccd2 = [5651.469, 5661.348, 5679.023, 5696.089, 5701.544, 5705.464, 5778.453, 5784.658, 5793.914, \n",
    "# 5809.218, 5852.219, 5855.076]\n",
    "# fe_ccd3 = [6498.939, 6593.871, 6597.561, 6625.022, 6677.987, 6703.567, \n",
    "# 6705.102, 6710.319, 6713.745, 6725.357, 6726.667, 6733.151]\n",
    "# fe_lines = np.concatenate([fe_ccd1,fe_ccd2,fe_ccd3])\n",
    "\n",
    "# best_fit_met = []\n",
    "# for i in fe_lines:\n",
    "#     obs_truth = (data[:,0] < i+1) & (data[:,0] > i-1)\n",
    "#     synth_truth = (air_synth_wavelengths < i+1) & (air_synth_wavelengths > i-1)\n",
    "#     chi2s = []\n",
    "#     for j in range(len(fluxes)):\n",
    "#         chi2 = get_chi2(data[:,0][obs_truth],data[:,1][obs_truth], air_synth_wavelengths[synth_truth],np.array(fluxes[j])[synth_truth])\n",
    "#         chi2s.append(chi2)\n",
    "#     cs = CubicSpline(mets, chi2s)\n",
    "#     interp_met = np.arange(-1,0.501,0.001)\n",
    "#     interp_chi2 = cs(interp_met)\n",
    "#     idx = np.argmin(interp_chi2)\n",
    "#     best_fit_met.append(interp_met[idx])\n"
   ]
  },
  {
   "cell_type": "code",
   "execution_count": 35,
   "id": "ca1572b8-9fb5-4352-b4d8-f9bf88af362e",
   "metadata": {},
   "outputs": [],
   "source": [
    "# best_fit_synth_flux = get_synth_spectrum(star,np.nanmedian(best_fit_met))"
   ]
  },
  {
   "cell_type": "code",
   "execution_count": 36,
   "id": "449395bd-932a-434c-875b-09d31cb0d607",
   "metadata": {},
   "outputs": [],
   "source": [
    "# row = 0\n",
    "# col = 0\n",
    "# fig, ax = plt.subplots(4,7,figsize=(25,25))\n",
    "# plt.suptitle('GALAH ID: {}; Teff: {}, logg: {}, [M/H]: {}'.format(star['sobject_id'],\n",
    "#                                                                 teff,\n",
    "#                                                                 logg,\n",
    "#                                                                 feh\n",
    "#                                                                ),fontsize=25)\n",
    "\n",
    "\n",
    "# for i in fe_lines:\n",
    "#     obs_truth = (data[:,0] < i+3) & (data[:,0] > i-3)\n",
    "#     synth_truth = (air_synth_wavelengths < i+3) & (air_synth_wavelengths > i-3)\n",
    "\n",
    "\n",
    "#     ax[row][col].set_title(i,fontsize=25)\n",
    "#     ax[row][col].plot(data[:,0][obs_truth],data[:,1][obs_truth],c='black')\n",
    "    \n",
    "#     ax[row][col].plot(air_synth_wavelengths[synth_truth],np.array(best_fit_synth_flux)[synth_truth],alpha=0.5,c='red')\n",
    "#     ax[row][col].axvline(x=i, linestyle='--',c='blue')\n",
    "#     ax[row][col].set_xlim(i-2, i+2)\n",
    "#     ax[row][col].set_ylim(0.,1.2)\n",
    "#     ax[3][col].set_xlabel('Wavelength [$\\AA$]',fontsize=25)\n",
    "\n",
    "#     col+=1\n",
    "#     if col == 7:\n",
    "#         col = 0\n",
    "#         row +=1\n"
   ]
  },
  {
   "cell_type": "code",
   "execution_count": 37,
   "id": "39fdda7d-ca8f-4c46-9e84-671872ef142f",
   "metadata": {
    "scrolled": true
   },
   "outputs": [],
   "source": [
    "cluster_members['best_fit_fe_h'] = np.round(cluster_members['best_fit_fe_h'],3)\n",
    "# cluster_members['lin_by_line_fe_h'] = np.round(cluster_members['lin_by_line_fe_h'],3)"
   ]
  },
  {
   "cell_type": "code",
   "execution_count": 40,
   "id": "2bbc2907-9825-48ab-99ba-2920f520b60d",
   "metadata": {},
   "outputs": [
    {
     "data": {
      "text/plain": [
       "<matplotlib.collections.PathCollection at 0x7fe0cb4aa3c0>"
      ]
     },
     "execution_count": 40,
     "metadata": {},
     "output_type": "execute_result"
    },
    {
     "data": {
      "image/png": "[encoded data removed]",
      "text/plain": [
       "<Figure size 640x480 with 1 Axes>"
      ]
     },
     "metadata": {},
     "output_type": "display_data"
    }
   ],
   "source": [
    "plt.scatter(cluster_members['iso_feh'],cluster_members['best_fit_fe_h'])"
   ]
  },
  {
   "cell_type": "code",
   "execution_count": null,
   "id": "e8c3d5fa-20a6-4680-a806-1a061d2c57ce",
   "metadata": {},
   "outputs": [],
   "source": []
  }
 ],
 "metadata": {
  "kernelspec": {
   "display_name": "Python 3 (ipykernel)",
   "language": "python",
   "name": "python3"
  },
  "language_info": {
   "codemirror_mode": {
    "name": "ipython",
    "version": 3
   },
   "file_extension": ".py",
   "mimetype": "text/x-python",
   "name": "python",
   "nbconvert_exporter": "python",
   "pygments_lexer": "ipython3",
   "version": "3.12.5"
  }
 },
 "nbformat": 4,
 "nbformat_minor": 5
}
