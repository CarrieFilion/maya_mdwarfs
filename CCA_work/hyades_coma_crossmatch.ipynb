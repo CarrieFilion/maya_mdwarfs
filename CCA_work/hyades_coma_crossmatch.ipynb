{
 "cells": [
  {
   "cell_type": "code",
   "execution_count": 1,
   "id": "353d7460-44e7-4347-aa08-712b87e79b74",
   "metadata": {},
   "outputs": [],
   "source": [
    "import matplotlib.pyplot as plt\n",
    "from astropy import *\n",
    "import astropy.units as u\n",
    "from astropy.io import fits\n",
    "import numpy as np\n",
    "import glob as glob\n",
    "import pandas as pd\n",
    "from astropy.table import Table,vstack,hstack\n",
    "\n",
    "import subprocess\n",
    "import sys\n",
    "import os\n",
    "import logging\n",
    "import numpy as np\n",
    "\n",
    "from scipy.interpolate import interp1d\n",
    "import time\n",
    "from astropy.stats import sigma_clip\n",
    "import scipy\n",
    "from scipy.interpolate import interp1d\n",
    "from scipy import interpolate"
   ]
  },
  {
   "cell_type": "code",
   "execution_count": 2,
   "id": "1e4c60e3-3b56-46c3-9075-8954cee0b528",
   "metadata": {},
   "outputs": [],
   "source": [
    "import PyBACCHUS\n",
    "from PyBACCHUS.bacchus import BACCHUS\n",
    "from PyBACCHUS.star import Star"
   ]
  },
  {
   "cell_type": "code",
   "execution_count": 19,
   "id": "d3e1ff8d-1899-4bd5-b088-d8a2e2cd0eb4",
   "metadata": {},
   "outputs": [],
   "source": [
    "path = '/uufs/chpc.utah.edu/common/home/astro/zasowski/sinha/fits/'\n",
    "galah = Table.read(path + 'galah_dr4_allstar.fits')\n",
    "df = pd.read_csv('galah_members_isochrone_parameters.csv')\n",
    "cluster_members = Table(data=df.to_numpy(),names=df.columns,dtype = df.dtypes)\n",
    "\n",
    "dr19 = Table.read('/uufs/chpc.utah.edu/common/home/sdss50/dr19/spectro/astra/0.6.0/summary/astraAllStarASPCAP-0.6.0.fits.gz',hdu=2)"
   ]
  },
  {
   "cell_type": "code",
   "execution_count": 20,
   "id": "7eec2254-16a3-483f-8534-c373cb7864ee",
   "metadata": {},
   "outputs": [],
   "source": [
    "\n",
    "\n",
    "Coma_Berenices_G = ['2M12270627+2650445','2M12204557+2545572']\n",
    "\n",
    "Coma_Berenices_M = ['2M12193796+2634445',' 2M12264027+2718434',\n",
    "                    '2M12201448+2526072','2M12231356+2602185',\n",
    "                    '2M12255421+2651387','2M12250262+2642382',\n",
    "                    '2M12241121+2653166']\n",
    "\n",
    "Hyades_G = ['2M04473755+1815315','2M04293075+2640176',\n",
    "            '2M04325943+1549084','2M04142562+1437300']\n",
    "\n",
    "Hyades_M = ['2M03413689+2320374', '2M03415547+1845359', \n",
    "'2M03591417+2202380','2M04172811+1454038',\n",
    "'2M04363080+1905273', '2M04363893+1836567', \n",
    "'2M04544410+1940513']\n",
    "\n"
   ]
  },
  {
   "cell_type": "code",
   "execution_count": 35,
   "id": "cf442076-7fab-4daf-b82b-6a6d82594d18",
   "metadata": {},
   "outputs": [],
   "source": [
    "coma_g = dr19[np.isin(dr19['sdss4_apogee_id'].astype(str),Coma_Berenices_G)]\n",
    "\n",
    "coma_m = dr19[np.isin(dr19['sdss4_apogee_id'].astype(str),Coma_Berenices_M)]\n",
    "\n",
    "hyades_g = dr19[np.isin(dr19['sdss4_apogee_id'].astype(str),Hyades_G)]\n",
    "\n",
    "hyades_m = dr19[np.isin(dr19['sdss4_apogee_id'].astype(str),Hyades_M)]\n",
    "\n",
    "hyades_m.sort('snr',reverse=True)\n",
    "unique_ids,indices,counts = np.unique(hyades_m['sdss_id'],return_index=True,return_counts=True)\n",
    "hyades_m = hyades_m[indices]"
   ]
  },
  {
   "cell_type": "code",
   "execution_count": 37,
   "id": "22ff5fd1-1b60-4b5f-928f-abb29c51ab38",
   "metadata": {},
   "outputs": [],
   "source": [
    "coma_g['type'] = 'G'\n",
    "coma_m['type'] = 'M'\n",
    "\n",
    "hyades_g['type'] = 'G'\n",
    "hyades_m['type'] = 'M'\n",
    "\n",
    "coma = vstack([coma_g,coma_m])\n",
    "hyades = vstack([hyades_g,hyades_m])\n",
    "\n",
    "coma['cluster'] = 'Coma_Berenices'\n",
    "hyades['cluster'] = 'Hyades'\n",
    "\n",
    "stars = vstack([coma,hyades])"
   ]
  },
  {
   "cell_type": "code",
   "execution_count": 38,
   "id": "865c3328-e773-4f94-b0ea-24a320ce6353",
   "metadata": {},
   "outputs": [
    {
     "data": {
      "text/plain": [
       "array([False, False, False, False, False, False, False, False, False,\n",
       "       False,  True, False, False, False, False, False, False,  True,\n",
       "       False])"
      ]
     },
     "execution_count": 38,
     "metadata": {},
     "output_type": "execute_result"
    }
   ],
   "source": [
    "np.isin(stars['gaia_dr3_source_id'],galah['gaiadr3_source_id'])"
   ]
  },
  {
   "cell_type": "code",
   "execution_count": null,
   "id": "77c94159-6ffa-4309-b940-25a15e67d87a",
   "metadata": {},
   "outputs": [],
   "source": []
  }
 ],
 "metadata": {
  "kernelspec": {
   "display_name": "Python 3 (ipykernel)",
   "language": "python",
   "name": "python3"
  },
  "language_info": {
   "codemirror_mode": {
    "name": "ipython",
    "version": 3
   },
   "file_extension": ".py",
   "mimetype": "text/x-python",
   "name": "python",
   "nbconvert_exporter": "python",
   "pygments_lexer": "ipython3",
   "version": "3.11.13"
  }
 },
 "nbformat": 4,
 "nbformat_minor": 5
}
