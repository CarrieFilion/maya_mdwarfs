{
 "cells": [
  {
   "cell_type": "code",
   "execution_count": 1,
   "id": "28d56098-a952-4f86-910b-cbef6b30311a",
   "metadata": {},
   "outputs": [],
   "source": [
    "import matplotlib.pyplot as plt\n",
    "from astropy import *\n",
    "import astropy.units as u\n",
    "from astropy.io import fits\n",
    "import numpy as np\n",
    "import glob as glob\n",
    "import pandas as pd\n",
    "from astropy.table import Table,vstack,hstack\n",
    "\n",
    "import subprocess\n",
    "import sys\n",
    "import os\n",
    "import logging\n",
    "import numpy as np\n",
    "\n",
    "from scipy.interpolate import interp1d\n",
    "import time\n",
    "from astropy.stats import sigma_clip\n",
    "import scipy\n",
    "from scipy.interpolate import interp1d\n",
    "from scipy import interpolate"
   ]
  },
  {
   "cell_type": "code",
   "execution_count": 2,
   "id": "eb30b105-a795-43c0-9f0b-922052e5ca03",
   "metadata": {},
   "outputs": [],
   "source": [
    "# ! ls /uufs/chpc.utah.edu/common/home/astro/zasowski/sinha/fits/old_files/galah/dr4/spectra/hermes/all/\n",
    "spectra_path = '/uufs/chpc.utah.edu/common/home/astro/zasowski/sinha/fits/galah_dr4_cluster_fgk_m_spectra'\n",
    "\n",
    "candidates = Table.read('galah_candidate_cluster_members.fits')"
   ]
  },
  {
   "cell_type": "code",
   "execution_count": 10,
   "id": "597b505d-d26a-4631-a446-ecc394deaf45",
   "metadata": {
    "scrolled": true
   },
   "outputs": [],
   "source": [
    "filenames = glob.glob(spectra_path + '/*1.fits')\n",
    "\n",
    "sobject_ids = []\n",
    "gaia_id = []\n",
    "snr = []\n",
    "snr_per_pixel = []\n",
    "for i in filenames:\n",
    "    fitsname = i.split('/')[-1]\n",
    "    sobj_id = int(fitsname.split('1.fits')[0])\n",
    "    hdu = fits.open(i)\n",
    "    header = hdu[0].header\n",
    "\n",
    "    sobject_ids.append(int(header['GALAH_ID']))\n",
    "    gaia_id.append(header['GAIA_ID'])\n",
    "    snr.append(header['SNR'])\n",
    "    snr_per_pixel.append(header['SNR_AA'])\n",
    "\n",
    "sobject_ids = np.array(sobject_ids)"
   ]
  },
  {
   "cell_type": "code",
   "execution_count": 5,
   "id": "698b43b4-6509-491c-a853-95e71afde50a",
   "metadata": {},
   "outputs": [],
   "source": [
    "# glob.glob('/uufs/chpc.utah.edu/common/home/astro/zasowski/sinha/fits/galah_dr4_cluster_fgk_m_spectra/{}1.fits'.format(150429003300262))"
   ]
  },
  {
   "cell_type": "code",
   "execution_count": 11,
   "id": "4c61f397-c1ac-4701-bab1-a82968d28b0e",
   "metadata": {
    "scrolled": true
   },
   "outputs": [],
   "source": [
    "ispec_dir = '/uufs/astro.utah.edu/common/home/u1363702/iSpec'\n",
    "sys.path.append(ispec_dir)"
   ]
  },
  {
   "cell_type": "code",
   "execution_count": 12,
   "id": "fd6d61c3-0f01-4f71-9e9a-f6e2d6add015",
   "metadata": {},
   "outputs": [],
   "source": [
    "import ispec\n",
    "def determine_radial_velocity_with_template(waves, fluxes):\n",
    "    mu_cas_spectrum = Table([waves*.1, fluxes, np.repeat(0,len(fluxes))], names=('waveobs', 'flux', 'err'))\n",
    "    #--- Radial Velocity determination with template -------------------------------\n",
    "    #logging.info(\"Radial velocity determination with template...\")\n",
    "    # - Read synthetic template\n",
    "    # template = ispec.read_spectrum(ispec_dir + \"/input/spectra/templates/Atlas.Arcturus.372_926nm/template.txt.gz\")\n",
    "    template = ispec.read_spectrum(path + 'template.txt.gz')\n",
    "    #template = ispec.read_spectrum(ispec_dir + \"/input/spectra/templates/NARVAL.Sun.370_1048nm/template.txt.gz\")\n",
    "    #template = ispec.read_spectrum(ispec_dir + \"/input/spectra/templates/Synth.Sun.300_1100nm/template.txt.gz\")\n",
    "\n",
    "    models, ccf = ispec.cross_correlate_with_template(mu_cas_spectrum, template, \\\n",
    "                            lower_velocity_limit=-200, upper_velocity_limit=200, \\\n",
    "                            velocity_step=1.0, fourier=False)\n",
    "\n",
    "    # Number of models represent the number of components\n",
    "    components = len(models)\n",
    "    # First component:\n",
    "    rv = np.round(models[0].mu(), 2) # km/s\n",
    "    rv_err = np.round(models[0].emu(), 2) # km/s\n",
    "    return rv, rv_err"
   ]
  },
  {
   "cell_type": "code",
   "execution_count": 9,
   "id": "b6749941-e873-49a7-9e0d-a964d0da421d",
   "metadata": {
    "scrolled": true
   },
   "outputs": [],
   "source": [
    "truth = np.isin(sobject_ids,candidates['sobject_id'])"
   ]
  },
  {
   "cell_type": "code",
   "execution_count": null,
   "id": "10e2dca9-0dcb-4e79-a861-a053ead00009",
   "metadata": {},
   "outputs": [],
   "source": [
    "\n",
    "def get_spectra(obj_id):\n",
    "    wavelengths = []\n",
    "    fluxes = []\n",
    "    uncertainties = []\n",
    "    for i in range(1,5):\n",
    "        try:\n",
    "            pathway = '/uufs/chpc.utah.edu/common/home/astro/zasowski/sinha/fits/galah_dr4_cluster_fgk_m_spectra/{}{}.fits'.format(obj_id,i)\n",
    "            hdu = fits.open(pathway)\n",
    "            flux = hdu[1].data\n",
    "            err = hdu[2].data * flux\n",
    "\n",
    "            wave = []\n",
    "            for j in range(len(flux)):\n",
    "                lamda = hdu[1].header['CRVAL1'] + hdu[1].header['CDELT1']*j\n",
    "                wave.append(lamda)\n",
    "            wave = np.array(wave)\n",
    "            wavelengths.append(wave)\n",
    "            fluxes.append(flux)\n",
    "            uncertainties.append(err**2)\n",
    "        except:\n",
    "            print('no HDU {} for {}'.format(i,obj_id))\n",
    "\n",
    "    if len(wavelengths) > 0:\n",
    "        wavelength = np.concatenate(wavelengths)\n",
    "        flux = np.concatenate(fluxes)\n",
    "        uncertainty = np.concatenate(uncertainties)\n",
    "        fwhm = np.nanmedian(fwhms)\n",
    "    # print(fwhm)\n",
    "    # plt.plot(wavelength,flux)\n",
    "\n",
    "        star_id = '/galah_id_{}'.format(obj_id)\n",
    "\n",
    "        filename = spectra_path+star_id + '.txt'\n",
    "        data = np.dstack((wavelength,flux,uncertainty))[0]\n",
    "        # np.savetxt(filename, data)\n",
    "        return fwhm, data\n",
    "    else:\n",
    "        return -99, [0,0,0]"
   ]
  },
  {
   "cell_type": "code",
   "execution_count": null,
   "id": "2c2c1126-29c7-4224-8a82-d2a3769e52f2",
   "metadata": {},
   "outputs": [],
   "source": [
    "fwhm, data = get_spectra(140111002601286)"
   ]
  },
  {
   "cell_type": "code",
   "execution_count": null,
   "id": "7c3b2bd6-d4fb-49e1-8d3e-2f43c569c86b",
   "metadata": {},
   "outputs": [],
   "source": [
    "fig2 = plt.figure()\n",
    "plt.errorbar(data[:,0], data[:,1],yerr=data[:,2])\n",
    "plt.axvline(x=6562.8)\n",
    "plt.xlim(6564.6-10,6564.6+10)\n",
    "plt.ylim(0,1.2)"
   ]
  },
  {
   "cell_type": "code",
   "execution_count": null,
   "id": "6ec87af4-dd08-420e-a8ed-a713c51fb258",
   "metadata": {},
   "outputs": [],
   "source": [
    "ids = glob.glob(spectra_path + 'hermes/all/*1.fits')"
   ]
  },
  {
   "cell_type": "code",
   "execution_count": null,
   "id": "9618e68a-4da8-4b8f-90c4-0c47f03bab66",
   "metadata": {
    "scrolled": true
   },
   "outputs": [],
   "source": [
    "all_ids = []\n",
    "for i in ids:\n",
    "    ar = i.split('/')[-1]\n",
    "    ar = ar.split('1.fits')[0]\n",
    "    all_ids.append(ar)"
   ]
  },
  {
   "cell_type": "code",
   "execution_count": null,
   "id": "65720588-379a-46f2-84d2-79008ecf80ac",
   "metadata": {},
   "outputs": [],
   "source": [
    "ids = glob.glob(spectra_path + 'hermes/com/*1.fits')"
   ]
  },
  {
   "cell_type": "code",
   "execution_count": null,
   "id": "cf6eb30e-c554-4415-9df3-fb7ad0f30706",
   "metadata": {},
   "outputs": [],
   "source": [
    "com_ids = []\n",
    "for i in ids:\n",
    "    ar = i.split('/')[-1]\n",
    "    ar = ar.split('1.fits')[0]\n",
    "    com_ids.append(ar)"
   ]
  },
  {
   "cell_type": "code",
   "execution_count": null,
   "id": "ee3b06b5-376f-459f-9747-9b1b2d437632",
   "metadata": {},
   "outputs": [],
   "source": [
    "print(len(com_ids), len(all_ids))"
   ]
  },
  {
   "cell_type": "code",
   "execution_count": null,
   "id": "f03bb13b-f078-4fa7-87b8-9976e4c787e9",
   "metadata": {},
   "outputs": [],
   "source": [
    "fits_path = '/uufs/chpc.utah.edu/common/home/astro/zasowski/sinha/fits/'\n",
    "galah = Table.read(fits_path + 'galah_dr4_allstar.fits')"
   ]
  },
  {
   "cell_type": "code",
   "execution_count": null,
   "id": "3fffaaa8-73ad-4cc3-8542-a625df03e4f9",
   "metadata": {
    "scrolled": true
   },
   "outputs": [],
   "source": [
    "truth = np.isin(np.array(all_ids).astype(int), galah['gaiadr3_source_id'])\n",
    "truth"
   ]
  },
  {
   "cell_type": "code",
   "execution_count": null,
   "id": "0936a675-f724-4693-8f0a-e5c0a49db2aa",
   "metadata": {
    "scrolled": true
   },
   "outputs": [],
   "source": [
    "np.isin(140111003900031, galah['sobject_id'])"
   ]
  },
  {
   "cell_type": "code",
   "execution_count": null,
   "id": "3761e078-8988-4d20-8ff4-e9f7e4d6cdd2",
   "metadata": {},
   "outputs": [],
   "source": [
    "f1 = '/uufs/chpc.utah.edu/common/home/astro/zasowski/sinha/fits/old_files/galah/dr4/spectra/hermes/all/{}{}.fits'.format(140111003900031,2)\n",
    "hdu = fits.open(pathway)\n",
    "flux = hdu[1].data\n",
    "flux"
   ]
  },
  {
   "cell_type": "code",
   "execution_count": null,
   "id": "2ae25028-2a6c-4f80-bf28-1ee2c8e09ef0",
   "metadata": {
    "scrolled": true
   },
   "outputs": [],
   "source": [
    "hdu[0].header"
   ]
  },
  {
   "cell_type": "code",
   "execution_count": null,
   "id": "ea72de99-fd89-4ced-9a10-add5b8c6b278",
   "metadata": {},
   "outputs": [],
   "source": [
    "hdu"
   ]
  },
  {
   "cell_type": "code",
   "execution_count": null,
   "id": "2cd636df-2132-4062-b0ee-2a7c64d57730",
   "metadata": {},
   "outputs": [],
   "source": [
    "np.isin('140111003900031',galah['sobject_id']) "
   ]
  },
  {
   "cell_type": "code",
   "execution_count": null,
   "id": "bfaef0dc-df75-4cf6-983a-a9598c30db6e",
   "metadata": {},
   "outputs": [],
   "source": [
    "galah"
   ]
  },
  {
   "cell_type": "code",
   "execution_count": null,
   "id": "0a75f50a-9d83-4e1c-8254-e9f29092c511",
   "metadata": {},
   "outputs": [],
   "source": []
  }
 ],
 "metadata": {
  "kernelspec": {
   "display_name": "Python 3 (ipykernel)",
   "language": "python",
   "name": "python3"
  },
  "language_info": {
   "codemirror_mode": {
    "name": "ipython",
    "version": 3
   },
   "file_extension": ".py",
   "mimetype": "text/x-python",
   "name": "python",
   "nbconvert_exporter": "python",
   "pygments_lexer": "ipython3",
   "version": "3.12.5"
  }
 },
 "nbformat": 4,
 "nbformat_minor": 5
}
