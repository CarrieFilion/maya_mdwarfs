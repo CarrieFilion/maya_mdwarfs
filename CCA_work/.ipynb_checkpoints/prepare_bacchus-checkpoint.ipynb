{
 "cells": [
  {
   "cell_type": "code",
   "execution_count": 1,
   "id": "f3fdc544-cf42-492f-b719-3e93b4b8e477",
   "metadata": {},
   "outputs": [],
   "source": [
    "import matplotlib.pyplot as plt\n",
    "from astropy import *\n",
    "import astropy.units as u\n",
    "from astropy.io import fits\n",
    "import numpy as np\n",
    "import glob as glob\n",
    "import pandas as pd\n",
    "from astropy.table import Table,vstack,hstack\n",
    "\n",
    "import subprocess\n",
    "import sys\n",
    "import os\n",
    "import logging\n",
    "import numpy as np\n",
    "\n",
    "from scipy.interpolate import interp1d\n",
    "import time\n",
    "from astropy.stats import sigma_clip\n",
    "import scipy\n",
    "from scipy.interpolate import interp1d\n",
    "from scipy import interpolate"
   ]
  },
  {
   "cell_type": "code",
   "execution_count": 2,
   "id": "e4dc57b2-5dfb-4fb8-8608-8fd7dcbe9614",
   "metadata": {},
   "outputs": [],
   "source": [
    "import PyBACCHUS\n",
    "from PyBACCHUS.bacchus import BACCHUS\n",
    "from PyBACCHUS.star import Star"
   ]
  },
  {
   "cell_type": "code",
   "execution_count": 4,
   "id": "80a8c908-aa51-471e-aab4-2e12e7efde66",
   "metadata": {},
   "outputs": [],
   "source": [
    "bpath = '/uufs/chpc.utah.edu/common/home/astro/zasowski/sinha/bacchus_files/'\n",
    "b_0 = BACCHUS(bpath + 'b_0/')\n",
    "b_1 = BACCHUS(bpath + 'b_1/')\n",
    "b_2 = BACCHUS(bpath + 'b_2/')\n",
    "b_3 = BACCHUS(bpath + 'b_3/')\n",
    "b_4 = BACCHUS(bpath + 'b_4/')"
   ]
  },
  {
   "cell_type": "code",
   "execution_count": 12,
   "id": "0436cf6a-a2ca-4393-86d7-dd3ae5db3d06",
   "metadata": {
    "scrolled": true
   },
   "outputs": [],
   "source": [
    "# b_1.init = b_0.init\n",
    "# b_2.init = b_0.init\n",
    "# b_3.init = b_0.init\n",
    "# b_4.init = b_0.init\n",
    "\n",
    "# b_1.bsyn = b_0.bsyn\n",
    "# b_2.bsyn = b_0.bsyn\n",
    "# b_3.bsyn = b_0.bsyn\n",
    "# b_4.bsyn = b_0.bsyn"
   ]
  },
  {
   "cell_type": "code",
   "execution_count": 13,
   "id": "8e3f3a71-c0e9-4459-83ec-af0dba52a507",
   "metadata": {},
   "outputs": [],
   "source": [
    "# b_1.init.write()\n",
    "# b_1.bsyn.write()\n",
    "\n",
    "# b_2.init.write()\n",
    "# b_2.bsyn.write()\n",
    "\n",
    "# b_3.init.write()\n",
    "# b_3.bsyn.write()\n",
    "\n",
    "# b_4.init.write()\n",
    "# b_4.bsyn.write()"
   ]
  },
  {
   "cell_type": "code",
   "execution_count": null,
   "id": "efd8b4eb-25aa-441e-b3af-a0b125470eb0",
   "metadata": {},
   "outputs": [],
   "source": [
    "# bacchus.stellar_parameters.entries = bacchus.stellar_parameters.entries.drop(np.arange(3,len(bacchus.stellar_parameters.entries)))\n",
    "# bacchus.stellar_parameters.entries"
   ]
  },
  {
   "cell_type": "code",
   "execution_count": 14,
   "id": "25c1cc9f-692a-450e-93aa-7c1fe8e9d645",
   "metadata": {},
   "outputs": [],
   "source": [
    "path = '/uufs/chpc.utah.edu/common/home/astro/zasowski/sinha/fits/'\n",
    "galah = Table.read(path + 'galah_dr4_allstar.fits')\n",
    "df = pd.read_csv('galah_members_isochrone_parameters.csv')\n",
    "cluster_members = Table(data=df.to_numpy(),names=df.columns,dtype = df.dtypes)\n",
    "\n",
    "def get_vmicro(logg):\n",
    "    return np.round(2.488 - 0.8665*logg+ 0.1567*logg**2,3)\n",
    "\n",
    "cluster_members['iso_vmicro'] = get_vmicro(cluster_members['iso_logg'])"
   ]
  },
  {
   "cell_type": "code",
   "execution_count": 29,
   "id": "89199622-e016-41ce-a1d3-c597a7f5eef1",
   "metadata": {
    "scrolled": true
   },
   "outputs": [],
   "source": [
    "cluster_members\n",
    "truth = (cluster_members['iso_teff'] < 4000) & (cluster_members['iso_logg'] > 3.5)\n",
    "fgk_stars = cluster_members[truth==False]\n",
    "\n",
    "names = []\n",
    "for i in fgk_stars:\n",
    "    names.append('galah_id_{}'.format(i['sobject_id']))\n",
    "\n",
    "d = dict()\n",
    "d['star_name'] = names\n",
    "d['sobject_id'] = np.array(fgk_stars['sobject_id'])\n",
    "df = pd.DataFrame(d)\n",
    "\n",
    "c1,c2,c3,c4,c5= np.array_split(df, 5)\n",
    "\n",
    "path = '/uufs/chpc.utah.edu/common/home/astro/zasowski/sinha/fits/'\n",
    "c1.to_csv(path + 'galah_0.csv',index_label=False) #b_0\n",
    "c2.to_csv(path + 'galah_1.csv',index_label=False) #b_1\n",
    "c3.to_csv(path + 'galah_2.csv',index_label=False) #b_2\n",
    "c4.to_csv(path + 'galah_3.csv',index_label=False) #b_3\n",
    "c5.to_csv(path + 'galah_4.csv',index_label=False) #b_4"
   ]
  },
  {
   "cell_type": "code",
   "execution_count": null,
   "id": "ec58bb02-215c-4c36-8172-9b1242c01b93",
   "metadata": {},
   "outputs": [],
   "source": [
    "# spectra_path = '/uufs/chpc.utah.edu/common/home/astro/zasowski/sinha/fits/galah_dr4_cluster_fgk_m_spectra/'\n",
    "# star_id = '/galah_id_{}'.format(obj_id)\n",
    "# filename = spectra_path+star_id + '.txt'"
   ]
  },
  {
   "cell_type": "code",
   "execution_count": null,
   "id": "7ad198f3-bc72-49f5-a734-03e2497a9826",
   "metadata": {},
   "outputs": [],
   "source": [
    "# # bacchus.stellar_parameters.add_star()\n",
    "# for i in fgk_stars:\n",
    "#     star = Star('galah_id_{}'.format(i['sobject_id']))\n",
    "#     spectrum_location = spectra_path + 'galah_id_{}'.format(i['sobject_id']) + '.txt'\n",
    "    \n",
    "#     teff_tuple = (np.round(i['iso_teff'],2),100)\n",
    "#     logg_tuple = (np.round(i['iso_logg'],2),0.1)\n",
    "#     mh_tuple = (np.round(i['iso_feh'],2),0.1)\n",
    "#     vmicro_tuple = (np.round(i['iso_vmicro'],2),0.02)\n",
    "    \n",
    "#     star.set_initial_values(spectrum_location, \n",
    "#                             teff_tuple,\n",
    "#                             logg_tuple,\n",
    "#                             mh_tuple,\n",
    "#                             vmicro_tuple, \n",
    "#                             (-15,5))\n",
    "#     bacchus.stellar_parameters.add_star(star)\n",
    "# display(bacchus.stellar_parameters.entries)"
   ]
  },
  {
   "cell_type": "code",
   "execution_count": null,
   "id": "1098a3fc-04ff-49d9-b355-ebe0255b28ac",
   "metadata": {},
   "outputs": [],
   "source": [
    "# bacchus.stellar_parameters.write()"
   ]
  },
  {
   "cell_type": "code",
   "execution_count": null,
   "id": "66d4befa-9d66-4bd6-9469-586b217d79f6",
   "metadata": {
    "scrolled": true
   },
   "outputs": [],
   "source": [
    "# bacchus.stellar_parameters.read()\n",
    "# bacchus.stellar_parameters.show()"
   ]
  },
  {
   "cell_type": "code",
   "execution_count": null,
   "id": "fb76ab1e-ef56-47f1-9b3a-7738b0094d23",
   "metadata": {},
   "outputs": [],
   "source": []
  }
 ],
 "metadata": {
  "kernelspec": {
   "display_name": "Python 3 (ipykernel)",
   "language": "python",
   "name": "python3"
  },
  "language_info": {
   "codemirror_mode": {
    "name": "ipython",
    "version": 3
   },
   "file_extension": ".py",
   "mimetype": "text/x-python",
   "name": "python",
   "nbconvert_exporter": "python",
   "pygments_lexer": "ipython3",
   "version": "3.12.5"
  }
 },
 "nbformat": 4,
 "nbformat_minor": 5
}
