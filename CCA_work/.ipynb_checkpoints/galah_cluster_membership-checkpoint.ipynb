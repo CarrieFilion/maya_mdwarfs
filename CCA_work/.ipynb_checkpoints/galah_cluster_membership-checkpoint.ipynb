{
 "cells": [
  {
   "cell_type": "code",
   "execution_count": 1,
   "id": "8a5585b9-678a-4392-80cf-2cba9d11c733",
   "metadata": {},
   "outputs": [],
   "source": [
    "import matplotlib.pyplot as plt\n",
    "from astropy import *\n",
    "import astropy.units as u\n",
    "from astropy.io import fits\n",
    "import numpy as np\n",
    "import glob as glob\n",
    "import pandas as pd\n",
    "from astropy.table import Table,vstack,hstack\n",
    "\n",
    "import subprocess\n",
    "import sys\n",
    "import os\n",
    "import logging\n",
    "import numpy as np\n",
    "\n",
    "from scipy.interpolate import interp1d\n",
    "import time\n",
    "from astropy.stats import sigma_clip\n",
    "import scipy\n",
    "from scipy.interpolate import interp1d\n",
    "from scipy import interpolate"
   ]
  },
  {
   "cell_type": "code",
   "execution_count": 2,
   "id": "6fbad03a-0193-4e17-a34f-765e9889ce08",
   "metadata": {},
   "outputs": [],
   "source": [
    "path = '/uufs/chpc.utah.edu/common/home/astro/zasowski/sinha/fits/'\n",
    "galah = Table.read(path + 'galah_dr4_allstar.fits')"
   ]
  },
  {
   "cell_type": "markdown",
   "id": "6e884ea2-d307-41a2-943f-aa6a9d8a599a",
   "metadata": {},
   "source": [
    "# Get Hunt Members"
   ]
  },
  {
   "cell_type": "code",
   "execution_count": null,
   "id": "ae6f1407-1c20-4129-8ef3-9be89e55ee29",
   "metadata": {},
   "outputs": [],
   "source": [
    "from astroquery.vizier import Vizier\n",
    "Vizier.ROW_LIMIT = -1\n",
    "hunt_catalog_list = Vizier.find_catalogs('J/A+A/686/A42')\n",
    "hunt_catalogs = Vizier.get_catalogs(hunt_catalog_list.keys())\n",
    "hunt_members = hunt_catalogs[1]"
   ]
  },
  {
   "cell_type": "markdown",
   "id": "17909831-59e5-4dab-ae49-1b4f9f998fd0",
   "metadata": {},
   "source": [
    "# Get Cavallo Parameters"
   ]
  },
  {
   "cell_type": "code",
   "execution_count": null,
   "id": "42e63ec0-478b-4121-a4c4-4af75e930a7f",
   "metadata": {},
   "outputs": [],
   "source": [
    "catalog_list = Vizier.find_catalogs('J/AJ/167/12')\n",
    "catalogs = Vizier.get_catalogs(catalog_list.keys())\n",
    "cantello_parameters = catalogs[0]"
   ]
  },
  {
   "cell_type": "code",
   "execution_count": null,
   "id": "a2337577-79e9-4711-9bbc-0bc80e87f1a9",
   "metadata": {},
   "outputs": [],
   "source": [
    "good_cantello_parameters = cantello_parameters[cantello_parameters['Quality'] < 1]\n",
    "good_cantello_parameters = good_cantello_parameters[good_cantello_parameters['kind']=='o']\n",
    "good_cantello_parameters\n",
    "# truth = np.isin(good_cantello_parameters['Cluster'],np.unique(hunt_members['Name']))\n",
    "# good_cantello_parameters = good_cantello_parameters[truth]\n",
    "\n",
    "# truth = np.isin(hunt_members['Name'],good_cantello_parameters['Cluster'])\n",
    "# hunt_members = hunt_members[truth]"
   ]
  },
  {
   "cell_type": "code",
   "execution_count": null,
   "id": "447c3d79-d9b7-4a94-90b8-9963aefe13c0",
   "metadata": {},
   "outputs": [],
   "source": [
    "truth = np.isin(hunt_members['GaiaDR3'],galah['gaiadr3_source_id'])\n",
    "galah_hunt_members = hunt_members[truth]\n",
    "\n",
    "truth = np.isin(galah['gaiadr3_source_id'],galah_hunt_members['GaiaDR3'])\n",
    "galah_cluster_candidates = galah[truth]"
   ]
  },
  {
   "cell_type": "code",
   "execution_count": null,
   "id": "907556f0-f4e9-425e-8236-0b3afed96151",
   "metadata": {},
   "outputs": [],
   "source": [
    "galah_hunt_members.sort('Prob',reverse=True)\n",
    "unique_ids,indices,counts = np.unique(galah_hunt_members['GaiaDR3'],return_index=True,return_counts=True)\n",
    "galah_hunt_members = galah_hunt_members[indices]\n",
    "\n",
    "galah_cluster_candidates.sort('gaiadr3_source_id')\n",
    "galah_hunt_members.sort('GaiaDR3')\n",
    "\n",
    "print(len(galah_cluster_candidates), len(galah_hunt_members))\n",
    "\n",
    "galah_cluster_candidates['cluster'] = galah_hunt_members['Name']\n",
    "galah_cluster_candidates['prob'] = galah_hunt_members['Prob']\n",
    "\n",
    "galah_cluster_candidates['pmra'] = galah_hunt_members['pmRA']\n",
    "galah_cluster_candidates['pmde'] = galah_hunt_members['pmDE']\n",
    "galah_cluster_candidates['plx'] = galah_hunt_members['Plx']\n",
    "\n",
    "galah_cluster_candidates['Gmag'] = galah_hunt_members['Gmag']\n",
    "galah_cluster_candidates['BPmag'] = galah_hunt_members['BPmag']\n",
    "galah_cluster_candidates['RPmag'] = galah_hunt_members['RPmag']"
   ]
  },
  {
   "cell_type": "code",
   "execution_count": null,
   "id": "6bc7bc85-aa5e-46cc-baa4-7762e338ccaa",
   "metadata": {},
   "outputs": [],
   "source": [
    "from isochrones.mist import MISTIsochroneGrid\n",
    "from isochrones import get_ichrone\n",
    "from isochrones import get_ichrone, SingleStarModel, BinaryStarModel\n",
    "\n",
    "from isochrones.priors import *\n",
    "\n",
    "def get_distance(dmnn, av):\n",
    "    return 10.0**(0.2*(dmnn + 5 - av))\n",
    "\n",
    "good_cantello_parameters['dist16'] = get_distance(good_cantello_parameters['dMod16'], good_cantello_parameters['AV16'])\n",
    "good_cantello_parameters['dist50'] = get_distance(good_cantello_parameters['dMod50'], good_cantello_parameters['AV50'])\n",
    "good_cantello_parameters['dist84'] = get_distance(good_cantello_parameters['dMod84'], good_cantello_parameters['AV84'])"
   ]
  },
  {
   "cell_type": "code",
   "execution_count": null,
   "id": "ebf8073f-7615-4112-9ab5-afbb128e3074",
   "metadata": {},
   "outputs": [],
   "source": [
    "def get_isochrone(cparams):\n",
    "    # cparams = good_cantello_parameters[good_cantello_parameters['Cluster']==i['cluster']]\n",
    "    N = 1000\n",
    "    masses = FlatPrior((0.1,5)).sample(N)\n",
    "    feh = cparams['[Fe/H]50']\n",
    "    age = cparams['logAge50']  # 6 Gyr\n",
    "    distance = cparams['dist50']  # 8 kpc\n",
    "    AV = cparams['AV50']\n",
    "\n",
    "    tracks = get_ichrone('mist', tracks=True)\n",
    "    df = tracks.generate(masses, age, feh, distance=distance, AV=AV)\n",
    "    # df = df[df['G_mag'] > 6]\n",
    "    # df = df[df['G_mag'] > 13]\n",
    "    # df = df[df['logg'] > 4.2]\n",
    "    df = df.sort_values(by=['G_mag'])\n",
    "    # df = df[df['Teff'] < 8000]\n",
    "    df['BP_RP'] = df['BP_mag'] - df['RP_mag']\n",
    "    return df\n",
    "\n",
    "from scipy.interpolate import CubicSpline\n",
    "def get_interploted_eep(df,df_param1,df_param2,star,star_param1):\n",
    "    cs = CubicSpline(df[df_param1], df[df_param2])\n",
    "    return cs(star[star_param1])\n",
    "\n",
    "def get_interploted_parameters(df,param,eep):\n",
    "    cs = CubicSpline(df['eep'], df[param])\n",
    "    \n",
    "    return cs(eep)"
   ]
  },
  {
   "cell_type": "code",
   "execution_count": null,
   "id": "a45199b9-ab14-4b1c-af99-5c9d62876d74",
   "metadata": {},
   "outputs": [],
   "source": [
    "# m67 = galah_cluster_candidates[galah_cluster_candidates['cluster']=='NGC_2682']\n",
    "# cparams = good_cantello_parameters[good_cantello_parameters['Cluster']=='NGC_2682']\n",
    "\n",
    "# df = get_isochrone(cparams)"
   ]
  },
  {
   "cell_type": "code",
   "execution_count": null,
   "id": "c3556d43-1832-4d75-9ca6-7722edc252aa",
   "metadata": {},
   "outputs": [],
   "source": [
    "# # \n",
    "\n",
    "# plt.scatter(m67['BPmag'] - m67['RPmag'],m67['Gmag'],c=m67['prob'])\n",
    "# plt.scatter(df['BP_mag'] - df['RP_mag'], df['G_mag'])\n",
    "# plt.gca().invert_yaxis()\n",
    "# plt.colorbar()\n",
    "# df['eep']\n",
    "\n",
    "# get_interploted_eep(df,'BP_RP','G_mag',m67[0],'bp_rp')"
   ]
  },
  {
   "cell_type": "code",
   "execution_count": null,
   "id": "6ad41332-e49e-4bd6-be41-2c78b30b77c8",
   "metadata": {},
   "outputs": [],
   "source": [
    "galah_clusters = np.unique(galah_cluster_candidates['cluster'])\n",
    "galah_cluster_candidates"
   ]
  },
  {
   "cell_type": "code",
   "execution_count": null,
   "id": "5194f5b8-84fe-4c34-8691-9235c8c79f2a",
   "metadata": {},
   "outputs": [],
   "source": [
    "def pm_pruning(cluster, param):\n",
    "    low = np.nanmedian(np.array(cluster[param])) - 2*np.nanstd(np.array(cluster[param]))\n",
    "    high = np.nanmedian(np.array(cluster[param])) + 2*np.nanstd(np.array(cluster[param]))\n",
    "\n",
    "    truth = (cluster[param] <= high) & (cluster[param] >= low)\n",
    "    return truth\n",
    "\n",
    "def rv_pruning(cluster):\n",
    "    joint_err = np.sqrt(np.array(cluster['e_rv_comp_1'])**2 + np.nanstd(np.array(cluster['rv_comp_1']))**2)\n",
    "    \n",
    "    upper = np.nanmedian(np.array(cluster['rv_comp_1'])) + 2*joint_err\n",
    "    lower = np.nanmedian(np.array(cluster['rv_comp_1'])) - 2*joint_err\n",
    "\n",
    "    truth = (np.array(cluster['rv_comp_1']) <= upper) & (np.array(cluster['rv_comp_1']) >= lower)\n",
    "    return truth\n",
    "\n",
    "def plx_pruning(cluster, cluster_params):\n",
    "    joint_plx_err = np.sqrt(np.array(cluster['parallax_error'])**2 + cluster_params['e_plx']**2)\n",
    "\n",
    "    upper = cluster_params['plx'] + 2*joint_plx_err\n",
    "    lower = cluster_params['plx'] - 2*joint_plx_err\n",
    "\n",
    "    truth = (np.array(cluster['parallax']) < upper) & (np.array(cluster['parallax']) > lower)\n",
    "    return truth\n",
    "\n",
    "# def param_prune(cluster, param):\n",
    "    \n",
    "    "
   ]
  },
  {
   "cell_type": "code",
   "execution_count": null,
   "id": "afe1509b-5698-4a62-8eb1-3cc68ac0c946",
   "metadata": {},
   "outputs": [],
   "source": [
    "temp = []\n",
    "for i in galah_clusters:\n",
    "    cluster = galah_cluster_candidates[galah_cluster_candidates['cluster']==i]\n",
    "    # cluster = cluster[(cluster['prob'] > 0.5)]\n",
    "    cparams = cantello_parameters[cantello_parameters['Cluster']==i]\n",
    "\n",
    "    key = False\n",
    "    count = 0\n",
    "    if len(cluster) > 1:\n",
    "        while(key==False):\n",
    "            pmra_truth = pm_pruning(cluster, 'pmra')\n",
    "            pmde_truth = pm_pruning(cluster, 'pmde')\n",
    "            plx_truth = pm_pruning(cluster,'plx')\n",
    "            rv_truth = pm_pruning(cluster,'rv_comp_1')\n",
    "            \n",
    "            truth = (pmra_truth & pmde_truth & plx_truth & rv_truth)\n",
    "            cluster = cluster[truth]\n",
    "            count +=1\n",
    "\n",
    "            if np.nanstd(np.array(cluster['rv_comp_1'])) < 3 or count == 5:\n",
    "                key = True\n",
    "\n",
    "        cluster = cluster[(cluster['prob'] > 0.7) & (cluster['snr_px_ccd3'] > 100)]\n",
    "        # cluster = cluster[(cluster['snr_px_ccd3'] > 100)]\n",
    "        if np.nanstd(np.array(cluster['rv_comp_1'])) < 3 and len(cluster) > 1:\n",
    "            temp.append(cluster)\n",
    "\n",
    "galah_cluster_members = vstack(temp)\n",
    "galah_cluster_members"
   ]
  },
  {
   "cell_type": "code",
   "execution_count": null,
   "id": "391a5003-9a46-4cb3-abef-5aaf14ac746e",
   "metadata": {
    "scrolled": true
   },
   "outputs": [],
   "source": [
    "n_fgk = 0\n",
    "n_mdwarfs = 0\n",
    "temp = []\n",
    "for i in np.unique(galah_cluster_members['cluster']):\n",
    "    cluster = galah_cluster_members[galah_cluster_members['cluster']==i]\n",
    "\n",
    "    truth = (cluster['teff'] > 4000) & (cluster['teff'] < 6500) & (cluster['logg'] > 3.5)\n",
    "    baselines = cluster[truth]\n",
    "\n",
    "    truth = (cluster['teff'] < 4000) & (cluster['logg'] > 3.5)\n",
    "    mdwarfs = cluster[truth] \n",
    "\n",
    "    # print(len(baselines), len(mdwarfs))\n",
    "\n",
    "    if len(mdwarfs) > 0 and len(baselines) > 0:\n",
    "        print(i, np.nanstd(cluster['rv_comp_1']), len(baselines), len(mdwarfs))\n",
    "        temp.append(cluster)\n",
    "        n_mdwarfs += len(mdwarfs) \n",
    "        n_fgk += len(baselines) \n",
    "\n",
    "candidate_cluster_members = vstack(temp)\n",
    "candidate_clusters = np.unique(candidate_cluster_members['cluster'])\n",
    "print('N M-dwarfs: {}'.format(n_mdwarfs))\n",
    "print('N FGK: {}'.format(n_fgk))\n",
    "print('N Clusters: {}'.format(len(candidate_clusters)))"
   ]
  },
  {
   "cell_type": "code",
   "execution_count": null,
   "id": "094aa6ff-e572-4329-b60f-0e9a2ce7a6fb",
   "metadata": {},
   "outputs": [],
   "source": [
    "# g_candidates = []\n",
    "# for i in candidate_clusters:\n",
    "# candidate_cluster_members = candidate_cluster_members[(candidate_cluster_members['cluster']=='Melotte_22') | (candidate_cluster_members['cluster']=='Collinder_69')]\n",
    "# n_fgk = 0\n",
    "# n_mdwarfs = 0\n",
    "# temp = []\n",
    "# for i in np.unique(candidate_cluster_members['cluster']):\n",
    "#     cluster = candidate_cluster_members[candidate_cluster_members['cluster']==i]\n",
    "#     print(i, np.nanstd(cluster['rv_comp_1']))\n",
    "\n",
    "#     truth = (cluster['teff'] > 4000) & (cluster['teff'] < 6500)\n",
    "#     baselines = cluster[truth]\n",
    "\n",
    "#     truth = (cluster['teff'] < 4000) & (cluster['logg'] > 3.5)\n",
    "#     mdwarfs = cluster[truth] \n",
    "\n",
    "#     # print(len(baselines), len(mdwarfs))\n",
    "\n",
    "#     if len(mdwarfs) > 0 and len(baselines) > 0:\n",
    "#         temp.append(cluster)\n",
    "#         n_mdwarfs += len(mdwarfs) \n",
    "#         n_fgk += len(baselines) \n",
    "        \n",
    "\n",
    "# print('N M-dwarfs: {}'.format(n_mdwarfs))\n",
    "# print('N FGK: {}'.format(n_fgk))\n",
    "# print('N Clusters: {}'.format(len(candidate_clusters)))\n"
   ]
  },
  {
   "cell_type": "code",
   "execution_count": null,
   "id": "173a9748-d2eb-4f9f-88b3-4ba08d616418",
   "metadata": {},
   "outputs": [],
   "source": [
    "plt.style.use(path +'paper_style.mplstyle')\n",
    "plt.rcParams[\"font.family\"] = \"STIXGeneral\"\n",
    "plt.rcParams['text.usetex'] = True"
   ]
  },
  {
   "cell_type": "code",
   "execution_count": null,
   "id": "5e8141cf-e84f-4e16-800d-870cf988b877",
   "metadata": {},
   "outputs": [],
   "source": [
    "plt.figure(figsize=(6,6))\n",
    "plt.scatter(candidate_cluster_members['teff'],candidate_cluster_members['logg'])\n",
    "plt.gca().invert_xaxis()\n",
    "plt.gca().invert_yaxis()"
   ]
  },
  {
   "cell_type": "code",
   "execution_count": null,
   "id": "5cabe9ce-13fd-49f2-bab0-cf2c3fa19183",
   "metadata": {},
   "outputs": [],
   "source": [
    "# plt.hist(candidate_cluster_members['fe_h'])\n",
    "fgks = candidate_cluster_members[candidate_cluster_members['teff'] > 4000]\n",
    "plt.scatter(fgks['fe_h'],fgks['mg_fe'])"
   ]
  },
  {
   "cell_type": "code",
   "execution_count": null,
   "id": "62cfcda7-b6d8-4de2-a5c8-b4f49326f21a",
   "metadata": {},
   "outputs": [],
   "source": [
    "candidate_cluster_members.write('galah_candidate_cluster_members.fits',overwrite=True)"
   ]
  },
  {
   "cell_type": "code",
   "execution_count": null,
   "id": "c4a5940c-a514-4949-892d-0b73cb6d2d62",
   "metadata": {
    "scrolled": true
   },
   "outputs": [],
   "source": [
    "sobject_ids = list(candidate_cluster_members['sobject_id'])\n",
    "np.savetxt('galah_cluster_member_ids.txt',sobject_ids,fmt='%f')"
   ]
  },
  {
   "cell_type": "code",
   "execution_count": null,
   "id": "1d4e6877-3338-4590-ada5-50a9b5b6ea98",
   "metadata": {},
   "outputs": [],
   "source": [
    "string = ''\n",
    "for i in sobject_ids:\n",
    "    string = string + str(i) + ','\n",
    "string"
   ]
  },
  {
   "cell_type": "code",
   "execution_count": null,
   "id": "9f698b56-1183-46e0-ae87-b82efbc2b85f",
   "metadata": {},
   "outputs": [],
   "source": [
    "# final_cluster_parameters = cantello_parameters[np.isin(cantello_parameters['Cluster'], candidate_clusters)]\n",
    "# final_cluster_parameters.write('galah_candidate_cluster_parameters.fits',overwrite=True)\n",
    "\n",
    "plt.hist(candidate_cluster_members['snr_px_ccd4'])"
   ]
  },
  {
   "cell_type": "code",
   "execution_count": null,
   "id": "2b832656-dbe1-481d-acea-cf7a69a37ee6",
   "metadata": {},
   "outputs": [],
   "source": [
    "# final_cluster_parameter\n",
    "galah_mdwarfs = galah[(galah['teff'] < 4000) & (galah['logg'] < 3.5)]\n",
    "# galah_mdwarfs = galah_mdwarfs[galah_mdwarfs['snr_px_ccd3'] > 30]"
   ]
  },
  {
   "cell_type": "code",
   "execution_count": null,
   "id": "511ffffe-06eb-47f1-b00f-786aed040abb",
   "metadata": {},
   "outputs": [],
   "source": []
  }
 ],
 "metadata": {
  "kernelspec": {
   "display_name": "Python 3 (ipykernel)",
   "language": "python",
   "name": "python3"
  },
  "language_info": {
   "codemirror_mode": {
    "name": "ipython",
    "version": 3
   },
   "file_extension": ".py",
   "mimetype": "text/x-python",
   "name": "python",
   "nbconvert_exporter": "python",
   "pygments_lexer": "ipython3",
   "version": "3.11.13"
  }
 },
 "nbformat": 4,
 "nbformat_minor": 5
}
