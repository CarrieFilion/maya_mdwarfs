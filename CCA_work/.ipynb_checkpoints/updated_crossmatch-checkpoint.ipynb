{
 "cells": [
  {
   "cell_type": "code",
   "execution_count": 1,
   "id": "ec117f8c-55f2-4905-b1e8-f5d18f67ff80",
   "metadata": {},
   "outputs": [],
   "source": [
    "import matplotlib.pyplot as plt\n",
    "from astropy import *\n",
    "import astropy.units as u\n",
    "from astropy.io import fits\n",
    "import numpy as np\n",
    "import glob as glob\n",
    "import pandas as pd\n",
    "from astropy.table import Table,vstack,hstack\n",
    "\n",
    "import subprocess\n",
    "import sys\n",
    "import os\n",
    "import logging\n",
    "import numpy as np\n",
    "\n",
    "from scipy.interpolate import interp1d\n",
    "import time\n",
    "from astropy.stats import sigma_clip\n",
    "import scipy\n",
    "from scipy.interpolate import interp1d\n",
    "from scipy import interpolate"
   ]
  },
  {
   "cell_type": "code",
   "execution_count": 2,
   "id": "56a18f38-3780-478b-9d9b-8938fd05cf2a",
   "metadata": {},
   "outputs": [],
   "source": [
    "# ! ls"
   ]
  },
  {
   "cell_type": "code",
   "execution_count": 3,
   "id": "edde0c69-352a-4b17-a507-da65492b319d",
   "metadata": {},
   "outputs": [
    {
     "name": "stderr",
     "output_type": "stream",
     "text": [
      "WARNING: UnitsWarning: 'log(cm.s**-2)' did not parse as fits unit: 'log' is not a recognized function If this is meant to be a custom unit, define it with 'u.def_unit'. To have it recognized inside a file reader or other code, enable it with 'u.add_enabled_units'. For details, see https://docs.astropy.org/en/latest/units/combining_and_defining.html [astropy.units.core]\n"
     ]
    }
   ],
   "source": [
    "path = '/uufs/chpc.utah.edu/common/home/astro/zasowski/sinha/fits/'\n",
    "\n",
    "\n",
    "galah = Table.read(path + 'galah_dr4_allstar.fits')\n",
    "unique_ids,indices,counts = np.unique(galah['sobject_id'],return_index=True,return_counts=True)\n",
    "galah = galah[indices]\n",
    "\n",
    "wide_binaries = Table.read(path + 'all_columns_catalog.fits')\n",
    "\n",
    "ipl4 = Table.read('/uufs/chpc.utah.edu/common/home/sdss50/ipl-4/spectro/astra/summary/astraAllStarASPCAP-0.8.fits.gz',hdu=2)\n",
    "unique_sdss_ids = np.unique(ipl4['sdss_id'])\n",
    "ipl4.sort('snr',reverse=True)\n",
    "unique_ids,indices,counts = np.unique(ipl4['sdss_id'],return_index=True,return_counts=True)\n",
    "ipl4 = ipl4[indices]\n",
    "\n"
   ]
  },
  {
   "cell_type": "code",
   "execution_count": 4,
   "id": "56cb830b-b7cb-41ca-b2a6-04926941aba9",
   "metadata": {},
   "outputs": [],
   "source": [
    "msms_wide_binaries = wide_binaries[wide_binaries['binary_type']=='MSMS']\n",
    "\n",
    "truth1 = np.isin(msms_wide_binaries['source_id1'],ipl4['gaia_dr3_source_id'])\n",
    "truth2 = np.isin(msms_wide_binaries['source_id2'],ipl4['gaia_dr3_source_id'])\n",
    "\n",
    "truth = truth1 & truth2\n",
    "\n",
    "ipl4_wb_candidates = msms_wide_binaries[truth]"
   ]
  },
  {
   "cell_type": "code",
   "execution_count": 5,
   "id": "aadc9908-a236-4e2e-aab3-3ba2febf00d7",
   "metadata": {},
   "outputs": [],
   "source": [
    "truth1 = np.isin(msms_wide_binaries['source_id1'],galah['gaiadr3_source_id'])\n",
    "truth2 = np.isin(msms_wide_binaries['source_id2'],galah['gaiadr3_source_id'])\n",
    "\n",
    "truth = truth1 & truth2\n",
    "\n",
    "galah_wb_candidates = msms_wide_binaries[truth]"
   ]
  },
  {
   "cell_type": "code",
   "execution_count": 6,
   "id": "448777ef-34cc-4460-9cee-1a707996acd2",
   "metadata": {},
   "outputs": [],
   "source": [
    "galah_wb_candidates['pair'] = np.arange(1, len(galah_wb_candidates) + 1, 1)\n",
    "galah['pair'] = -9999"
   ]
  },
  {
   "cell_type": "code",
   "execution_count": 11,
   "id": "6e548207-6da8-482b-8609-cf114cd7930f",
   "metadata": {},
   "outputs": [],
   "source": [
    "truth1 = np.isin(galah['gaiadr3_source_id'],galah_wb_candidates['source_id1'])\n",
    "truth2 = np.isin(galah['gaiadr3_source_id'],galah_wb_candidates['source_id2']) \n",
    "truth = truth1 | truth2\n",
    "\n",
    "galah_wbs = galah[truth]\n",
    "\n",
    "for i in galah_wbs:\n",
    "    row = galah_wb_candidates[(galah_wb_candidates['source_id1']==i['gaiadr3_source_id']) | (galah_wb_candidates['source_id2']==i['gaiadr3_source_id'])]\n",
    "    i['pair'] = row['pair']"
   ]
  },
  {
   "cell_type": "code",
   "execution_count": 12,
   "id": "ed7be0e3-23bc-44b9-9a21-797119e5b0c2",
   "metadata": {},
   "outputs": [],
   "source": [
    "galah_wbs['companion_type'] = 'idk'\n",
    "\n",
    "temp = []\n",
    "for i in np.unique(galah_wbs['pair']):\n",
    "    members = galah_wbs[galah_wbs['pair']==i]\n",
    "    members.sort('teff',reverse=True)\n",
    "    members['companion_type'] = ['primary','secondary']\n",
    "    temp.append(members)\n",
    "galah_wbs = vstack(temp)"
   ]
  },
  {
   "cell_type": "code",
   "execution_count": 13,
   "id": "70231ef8-3587-4cf2-ba00-6efa23e2c26b",
   "metadata": {},
   "outputs": [],
   "source": [
    "good_galah_wbs = galah_wbs[galah_wbs['snr_px_ccd3'] > 50]\n",
    "unique_ids,indices,counts = np.unique(good_galah_wbs['pair'],return_index=True,return_counts=True)\n",
    "\n",
    "good_galah_wbs = good_galah_wbs[np.where(counts>1)]"
   ]
  },
  {
   "cell_type": "code",
   "execution_count": 14,
   "id": "8b800af2-b08c-472c-8f0f-b074c2e51c30",
   "metadata": {},
   "outputs": [
    {
     "name": "stderr",
     "output_type": "stream",
     "text": [
      "/scratch/local/u1363702/6688992/ipykernel_1094358/2515849036.py:8: DeprecationWarning: The truth value of an empty array is ambiguous. Returning False, but in future this will result in an error. Use `array.size > 0` to check that an array is not empty.\n",
      "  if (sec['teff'] < 4200) and (pri['teff'] > 4200) and (pri['teff'] < 6000) and (sec['snr_px_ccd3'] > 50) and (pri['snr_px_ccd3'] > 50):\n"
     ]
    }
   ],
   "source": [
    "n_wbs = 0\n",
    "good_pairs = []\n",
    "for i in np.unique(good_galah_wbs['pair']):\n",
    "    members = good_galah_wbs[good_galah_wbs['pair']==i]\n",
    "    sec = members[members['companion_type']=='secondary']\n",
    "    pri = members[members['companion_type']=='primary']\n",
    "\n",
    "    if (sec['teff'] < 4200) and (pri['teff'] > 4200) and (pri['teff'] < 6000) and (sec['snr_px_ccd3'] > 50) and (pri['snr_px_ccd3'] > 50):\n",
    "        n_wbs +=1\n",
    "        good_pairs.append(i)"
   ]
  },
  {
   "cell_type": "code",
   "execution_count": 15,
   "id": "62933131-ebbf-4c8d-ae08-bd91053d99de",
   "metadata": {},
   "outputs": [
    {
     "data": {
      "text/plain": [
       "2"
      ]
     },
     "execution_count": 15,
     "metadata": {},
     "output_type": "execute_result"
    }
   ],
   "source": [
    "n_wbs"
   ]
  },
  {
   "cell_type": "code",
   "execution_count": 16,
   "id": "ed33513a-c852-49a8-a413-7227bb64e58d",
   "metadata": {},
   "outputs": [],
   "source": [
    "usable_wbs = good_galah_wbs[np.isin(good_galah_wbs['pair'], good_pairs)]\n",
    "usable_wbs.write('m_dwarf_g_dwarf_wide_binaries.fits',overwrite=True)"
   ]
  },
  {
   "cell_type": "code",
   "execution_count": 17,
   "id": "7cb22b65-72ca-478a-a459-412dac07440a",
   "metadata": {},
   "outputs": [],
   "source": [
    "# get all usable m-dwarfs"
   ]
  },
  {
   "cell_type": "code",
   "execution_count": 18,
   "id": "ed0df974-a1b4-4874-9289-26ceeb7ab860",
   "metadata": {},
   "outputs": [],
   "source": [
    "truth = (galah['teff'] < 4200) & (galah['logg'] > 3.5) & (galah['snr_px_ccd3'] > 100)\n",
    "galah_mdwarfs = galah[truth]\n",
    "# mdwarfs.write('galah_m_dwarf_candidates.fits',overwrite=True)"
   ]
  },
  {
   "cell_type": "code",
   "execution_count": 20,
   "id": "0595c15a-50e1-42c5-9ef1-ea642e4a5aeb",
   "metadata": {},
   "outputs": [],
   "source": [
    "# crossmatch apogee-galah"
   ]
  },
  {
   "cell_type": "code",
   "execution_count": 22,
   "id": "ff7c9deb-2ac7-4198-be41-01e003b7dbbf",
   "metadata": {},
   "outputs": [],
   "source": [
    "truth = (ipl4['raw_teff'] < 4200) & (ipl4['raw_logg'] > 3.5) & (ipl4['snr'] > 100)\n",
    "ipl4_mdwarfs = ipl4[truth]\n",
    "# ipl4_mdwarfs.write('ipl4_m_dwarf_candidates.fits',overwrite=True)"
   ]
  },
  {
   "cell_type": "code",
   "execution_count": 23,
   "id": "c093914f-5fb0-453f-b7c9-7caaa5aa65ed",
   "metadata": {},
   "outputs": [],
   "source": [
    "# galah_ipl4_mdwarfs = \n",
    "truth = np.isin(ipl4_mdwarfs['gaia_dr3_source_id'],galah_mdwarfs['gaiadr3_source_id'])\n",
    "ipl4_crossmatches = ipl4_mdwarfs[truth]\n",
    "\n",
    "truth = np.isin(galah_mdwarfs['gaiadr3_source_id'],ipl4_mdwarfs['gaia_dr3_source_id'])\n",
    "galah_crossmatches = galah_mdwarfs[truth]\n",
    "\n",
    "ipl4_crossmatches.sort('gaia_dr3_source_id')\n",
    "galah_crossmatches.sort('gaiadr3_source_id')\n",
    "\n",
    "galah_crossmatches['sdss_id'] = ipl4_crossmatches['sdss_id']\n",
    "galah_crossmatches['sdss_teff'] = ipl4_crossmatches['raw_teff']\n",
    "galah_crossmatches['sdss_logg'] = ipl4_crossmatches['raw_logg']\n",
    "galah_crossmatches['sdss_m_h'] = ipl4_crossmatches['raw_fe_h']\n"
   ]
  },
  {
   "cell_type": "code",
   "execution_count": 25,
   "id": "da525380-1ab4-46db-925e-d4c3aedde57c",
   "metadata": {},
   "outputs": [],
   "source": [
    "galah_crossmatches.write('crossmatched_mdwarfs.fits',overwrite=True)"
   ]
  },
  {
   "cell_type": "code",
   "execution_count": null,
   "id": "a22afa87-c7d5-4168-b3ad-50bcd59b0436",
   "metadata": {},
   "outputs": [],
   "source": []
  }
 ],
 "metadata": {
  "kernelspec": {
   "display_name": "Python 3 (ipykernel)",
   "language": "python",
   "name": "python3"
  },
  "language_info": {
   "codemirror_mode": {
    "name": "ipython",
    "version": 3
   },
   "file_extension": ".py",
   "mimetype": "text/x-python",
   "name": "python",
   "nbconvert_exporter": "python",
   "pygments_lexer": "ipython3",
   "version": "3.12.5"
  }
 },
 "nbformat": 4,
 "nbformat_minor": 5
}
