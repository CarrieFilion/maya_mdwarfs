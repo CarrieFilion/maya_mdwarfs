{
 "cells": [
  {
   "cell_type": "code",
   "execution_count": 1,
   "id": "5a711aaf-397f-414f-9154-e7e2c5176bc6",
   "metadata": {},
   "outputs": [],
   "source": [
    "import matplotlib.pyplot as plt\n",
    "from astropy import *\n",
    "import astropy.units as u\n",
    "from astropy.io import fits\n",
    "import numpy as np\n",
    "import glob as glob\n",
    "import pandas as pd\n",
    "from astropy.table import Table,vstack,hstack\n",
    "\n",
    "import subprocess\n",
    "import sys\n",
    "import os\n",
    "import logging\n",
    "import numpy as np\n",
    "\n",
    "from scipy.interpolate import interp1d\n",
    "import time\n",
    "from astropy.stats import sigma_clip\n",
    "import scipy\n",
    "from scipy.interpolate import interp1d\n",
    "from scipy import interpolate"
   ]
  },
  {
   "cell_type": "code",
   "execution_count": 2,
   "id": "7d48f980-5c1c-4e3f-8fa8-5072b9df6e3b",
   "metadata": {},
   "outputs": [],
   "source": [
    "import PyBACCHUS\n",
    "from PyBACCHUS.bacchus import BACCHUS\n",
    "from PyBACCHUS.star import Star"
   ]
  },
  {
   "cell_type": "code",
   "execution_count": 3,
   "id": "001508e8-801a-46d6-a342-35489aba8fd2",
   "metadata": {},
   "outputs": [],
   "source": [
    "bpath = '/uufs/chpc.utah.edu/common/home/astro/zasowski/sinha/bacchus_files/done_stars/'"
   ]
  },
  {
   "cell_type": "code",
   "execution_count": 4,
   "id": "d94033fe-450e-4279-a06b-59b372461658",
   "metadata": {},
   "outputs": [],
   "source": [
    "path = '/uufs/chpc.utah.edu/common/home/astro/zasowski/sinha/fits/'\n",
    "galah = Table.read(path + 'galah_dr4_allstar.fits')\n",
    "df = pd.read_csv('galah_members_isochrone_parameters.csv')\n",
    "cluster_members = Table(data=df.to_numpy(),names=df.columns,dtype = df.dtypes)\n",
    "\n",
    "def get_vmicro(logg):\n",
    "    return np.round(2.488 - 0.8665*logg+ 0.1567*logg**2,3)\n",
    "\n",
    "cluster_members['iso_vmicro'] = get_vmicro(cluster_members['iso_logg'])\n",
    "\n",
    "cluster_members\n",
    "truth = (cluster_members['iso_teff'] < 4000) & (cluster_members['iso_logg'] > 3.5)\n",
    "fgk_stars = cluster_members[truth==False]\n",
    "\n",
    "names = []\n",
    "for i in fgk_stars:\n",
    "    names.append('galah_id_{}'.format(i['sobject_id']))\n"
   ]
  },
  {
   "cell_type": "code",
   "execution_count": 5,
   "id": "79874a2a-de20-4bcf-a0d9-63d498658639",
   "metadata": {},
   "outputs": [],
   "source": [
    "elements = ['Fe', 'Mg', 'Si', 'Ca', 'Ti','Na', 'Al', 'K','Sc', 'V', 'Cr', 'Mn', 'Co', 'Ni', 'Cu', 'Zn',\n",
    "            'Rb', 'Sr', 'Y', 'Zr', 'Mo', 'Ba', 'La', 'Ce', 'Nd',\n",
    "            'Ru', 'Sm', 'Eu']"
   ]
  },
  {
   "cell_type": "code",
   "execution_count": 6,
   "id": "3d317d38-4bba-4a07-b444-4fe17835dcdb",
   "metadata": {},
   "outputs": [],
   "source": [
    "def get_A_x(table, col):\n",
    "    return np.percentile(table[col], 16),np.percentile(table[col], 50),np.percentile(table[col], 84)\n",
    "    \n",
    "def remove_bad_abundance(table, param, threshold):\n",
    "    truth = table[param] == threshold\n",
    "    table_clean = table[truth]\n",
    "    return table_clean\n"
   ]
  },
  {
   "cell_type": "code",
   "execution_count": 7,
   "id": "8fce3105-c189-4151-a8c9-17dd37f81422",
   "metadata": {
    "scrolled": true
   },
   "outputs": [
    {
     "data": {
      "text/html": [
       "<div>\n",
       "<style scoped>\n",
       "    .dataframe tbody tr th:only-of-type {\n",
       "        vertical-align: middle;\n",
       "    }\n",
       "\n",
       "    .dataframe tbody tr th {\n",
       "        vertical-align: top;\n",
       "    }\n",
       "\n",
       "    .dataframe thead th {\n",
       "        text-align: right;\n",
       "    }\n",
       "</style>\n",
       "<table border=\"1\" class=\"dataframe\">\n",
       "  <thead>\n",
       "    <tr style=\"text-align: right;\">\n",
       "      <th></th>\n",
       "      <th>sobject_id</th>\n",
       "      <th>iso_teff</th>\n",
       "      <th>iso_logg</th>\n",
       "      <th>iso_fe_h</th>\n",
       "      <th>iso_vmicro</th>\n",
       "      <th>cluster</th>\n",
       "      <th>name</th>\n",
       "      <th>star_obj</th>\n",
       "    </tr>\n",
       "  </thead>\n",
       "  <tbody>\n",
       "    <tr>\n",
       "      <th>0</th>\n",
       "      <td>190211002201010</td>\n",
       "      <td>5000.286806</td>\n",
       "      <td>4.301671</td>\n",
       "      <td>0.141623</td>\n",
       "      <td>1.660</td>\n",
       "      <td>ASCC_18</td>\n",
       "      <td>galah_id_190211002201010</td>\n",
       "      <td>&lt;PyBACCHUS.star.Star object at 0x7f4dcfe51c10&gt;</td>\n",
       "    </tr>\n",
       "    <tr>\n",
       "      <th>1</th>\n",
       "      <td>190211002201204</td>\n",
       "      <td>4121.628961</td>\n",
       "      <td>4.337635</td>\n",
       "      <td>0.114812</td>\n",
       "      <td>1.678</td>\n",
       "      <td>ASCC_18</td>\n",
       "      <td>galah_id_190211002201204</td>\n",
       "      <td>&lt;PyBACCHUS.star.Star object at 0x7f4dfd960710&gt;</td>\n",
       "    </tr>\n",
       "    <tr>\n",
       "      <th>2</th>\n",
       "      <td>190211002201207</td>\n",
       "      <td>4659.779275</td>\n",
       "      <td>4.368855</td>\n",
       "      <td>0.132947</td>\n",
       "      <td>1.693</td>\n",
       "      <td>ASCC_18</td>\n",
       "      <td>galah_id_190211002201207</td>\n",
       "      <td>&lt;PyBACCHUS.star.Star object at 0x7f4dfd977140&gt;</td>\n",
       "    </tr>\n",
       "    <tr>\n",
       "      <th>3</th>\n",
       "      <td>190211002201387</td>\n",
       "      <td>4616.867139</td>\n",
       "      <td>4.384564</td>\n",
       "      <td>0.120647</td>\n",
       "      <td>1.701</td>\n",
       "      <td>ASCC_18</td>\n",
       "      <td>galah_id_190211002201387</td>\n",
       "      <td>&lt;PyBACCHUS.star.Star object at 0x7f4dfd977080&gt;</td>\n",
       "    </tr>\n",
       "    <tr>\n",
       "      <th>4</th>\n",
       "      <td>190211002201205</td>\n",
       "      <td>4532.790524</td>\n",
       "      <td>4.462659</td>\n",
       "      <td>0.093296</td>\n",
       "      <td>1.742</td>\n",
       "      <td>ASCC_18</td>\n",
       "      <td>galah_id_190211002201205</td>\n",
       "      <td>&lt;PyBACCHUS.star.Star object at 0x7f4dfd975ac0&gt;</td>\n",
       "    </tr>\n",
       "    <tr>\n",
       "      <th>...</th>\n",
       "      <td>...</td>\n",
       "      <td>...</td>\n",
       "      <td>...</td>\n",
       "      <td>...</td>\n",
       "      <td>...</td>\n",
       "      <td>...</td>\n",
       "      <td>...</td>\n",
       "      <td>...</td>\n",
       "    </tr>\n",
       "    <tr>\n",
       "      <th>102</th>\n",
       "      <td>220706001901188</td>\n",
       "      <td>4759.778225</td>\n",
       "      <td>4.534606</td>\n",
       "      <td>-0.090311</td>\n",
       "      <td>1.781</td>\n",
       "      <td>UPK_640</td>\n",
       "      <td>galah_id_220706001901188</td>\n",
       "      <td>&lt;PyBACCHUS.star.Star object at 0x7f4dff2fe480&gt;</td>\n",
       "    </tr>\n",
       "    <tr>\n",
       "      <th>103</th>\n",
       "      <td>220706001901241</td>\n",
       "      <td>4506.857726</td>\n",
       "      <td>4.616967</td>\n",
       "      <td>-0.118337</td>\n",
       "      <td>1.828</td>\n",
       "      <td>UPK_640</td>\n",
       "      <td>galah_id_220706001901241</td>\n",
       "      <td>&lt;PyBACCHUS.star.Star object at 0x7f4dfdcfe1e0&gt;</td>\n",
       "    </tr>\n",
       "    <tr>\n",
       "      <th>104</th>\n",
       "      <td>220706001901222</td>\n",
       "      <td>4947.416478</td>\n",
       "      <td>4.517010</td>\n",
       "      <td>-0.088792</td>\n",
       "      <td>1.771</td>\n",
       "      <td>UPK_640</td>\n",
       "      <td>galah_id_220706001901222</td>\n",
       "      <td>&lt;PyBACCHUS.star.Star object at 0x7f4dfdcfe240&gt;</td>\n",
       "    </tr>\n",
       "    <tr>\n",
       "      <th>105</th>\n",
       "      <td>220706001901239</td>\n",
       "      <td>4667.768050</td>\n",
       "      <td>4.630804</td>\n",
       "      <td>-0.118233</td>\n",
       "      <td>1.836</td>\n",
       "      <td>UPK_640</td>\n",
       "      <td>galah_id_220706001901239</td>\n",
       "      <td>&lt;PyBACCHUS.star.Star object at 0x7f4dfdcfe150&gt;</td>\n",
       "    </tr>\n",
       "    <tr>\n",
       "      <th>106</th>\n",
       "      <td>220706001901268</td>\n",
       "      <td>4351.233438</td>\n",
       "      <td>4.490813</td>\n",
       "      <td>-0.080617</td>\n",
       "      <td>1.757</td>\n",
       "      <td>UPK_640</td>\n",
       "      <td>galah_id_220706001901268</td>\n",
       "      <td>&lt;PyBACCHUS.star.Star object at 0x7f4dfdcfe270&gt;</td>\n",
       "    </tr>\n",
       "  </tbody>\n",
       "</table>\n",
       "<p>107 rows × 8 columns</p>\n",
       "</div>"
      ],
      "text/plain": [
       "          sobject_id     iso_teff  iso_logg  iso_fe_h  iso_vmicro  cluster  \\\n",
       "0    190211002201010  5000.286806  4.301671  0.141623       1.660  ASCC_18   \n",
       "1    190211002201204  4121.628961  4.337635  0.114812       1.678  ASCC_18   \n",
       "2    190211002201207  4659.779275  4.368855  0.132947       1.693  ASCC_18   \n",
       "3    190211002201387  4616.867139  4.384564  0.120647       1.701  ASCC_18   \n",
       "4    190211002201205  4532.790524  4.462659  0.093296       1.742  ASCC_18   \n",
       "..               ...          ...       ...       ...         ...      ...   \n",
       "102  220706001901188  4759.778225  4.534606 -0.090311       1.781  UPK_640   \n",
       "103  220706001901241  4506.857726  4.616967 -0.118337       1.828  UPK_640   \n",
       "104  220706001901222  4947.416478  4.517010 -0.088792       1.771  UPK_640   \n",
       "105  220706001901239  4667.768050  4.630804 -0.118233       1.836  UPK_640   \n",
       "106  220706001901268  4351.233438  4.490813 -0.080617       1.757  UPK_640   \n",
       "\n",
       "                         name                                        star_obj  \n",
       "0    galah_id_190211002201010  <PyBACCHUS.star.Star object at 0x7f4dcfe51c10>  \n",
       "1    galah_id_190211002201204  <PyBACCHUS.star.Star object at 0x7f4dfd960710>  \n",
       "2    galah_id_190211002201207  <PyBACCHUS.star.Star object at 0x7f4dfd977140>  \n",
       "3    galah_id_190211002201387  <PyBACCHUS.star.Star object at 0x7f4dfd977080>  \n",
       "4    galah_id_190211002201205  <PyBACCHUS.star.Star object at 0x7f4dfd975ac0>  \n",
       "..                        ...                                             ...  \n",
       "102  galah_id_220706001901188  <PyBACCHUS.star.Star object at 0x7f4dff2fe480>  \n",
       "103  galah_id_220706001901241  <PyBACCHUS.star.Star object at 0x7f4dfdcfe1e0>  \n",
       "104  galah_id_220706001901222  <PyBACCHUS.star.Star object at 0x7f4dfdcfe240>  \n",
       "105  galah_id_220706001901239  <PyBACCHUS.star.Star object at 0x7f4dfdcfe150>  \n",
       "106  galah_id_220706001901268  <PyBACCHUS.star.Star object at 0x7f4dfdcfe270>  \n",
       "\n",
       "[107 rows x 8 columns]"
      ]
     },
     "execution_count": 7,
     "metadata": {},
     "output_type": "execute_result"
    }
   ],
   "source": [
    "star_col = []\n",
    "for i in range(len(fgk_stars)):\n",
    "    try:\n",
    "        star = Star(names[i])\n",
    "        star.get_par(bpath + names[i] + '/')\n",
    "        star_col.append(star)\n",
    "    except:\n",
    "        star_col.append(None)\n",
    "\n",
    "data = dict()\n",
    "data['sobject_id'] = fgk_stars['sobject_id']\n",
    "data['iso_teff'] = fgk_stars['iso_teff']\n",
    "data['iso_logg'] = fgk_stars['iso_logg']\n",
    "data['iso_fe_h'] = fgk_stars['iso_feh']\n",
    "data['iso_vmicro'] = fgk_stars['iso_vmicro']\n",
    "data['cluster'] = fgk_stars['cluster']\n",
    "data['name'] = names\n",
    "data['star_obj'] = star_col\n",
    "\n",
    "\n",
    "df = pd.DataFrame(data)\n",
    "names = []\n",
    "for i in df['cluster']:\n",
    "    names.append(i.split('b')[-1].split(\"'\")[1])\n",
    "df['cluster'] = names\n",
    "df"
   ]
  },
  {
   "cell_type": "code",
   "execution_count": 8,
   "id": "12920879-34e0-43f8-b0cf-be32e7f49001",
   "metadata": {
    "scrolled": true
   },
   "outputs": [],
   "source": [
    "def abund(data, elem):\n",
    "    fe_h_lower = []\n",
    "    fe_h = []\n",
    "    fe_h_upper = []\n",
    "    for i in range(len(data['star_obj'])):\n",
    "        star = data['star_obj'][i]\n",
    "        if star == None:\n",
    "            fe_h_lower.append(np.nan)\n",
    "            fe_h.append(np.nan)\n",
    "            fe_h_upper.append(np.nan)\n",
    "        else:\n",
    "            star.get_par(bpath + data['name'][i] + '/')\n",
    "            try:\n",
    "                star.get_abundance(elem)\n",
    "                x_h = star.Abundance[elem].ABU.get()\n",
    "                res = remove_bad_abundance(x_h, 'flag_chi2', 1)\n",
    "\n",
    "                # display(res)\n",
    "                if len(res) == 0:\n",
    "                    fe_h_lower.append(np.nan)\n",
    "                    fe_h.append(np.nan)\n",
    "                    fe_h_upper.append(np.nan)\n",
    "                else:\n",
    "                    idx = np.argmin(res['chi2_val'])\n",
    "                    best_fit = res['chi2'][idx]\n",
    "                    lower, med, upper = get_A_x(res, 'chi2')\n",
    "                    fe_h_lower.append(lower)\n",
    "                    fe_h.append(best_fit)\n",
    "                    fe_h_upper.append(upper)\n",
    "            except:\n",
    "                fe_h_lower.append(np.nan)\n",
    "                fe_h.append(np.nan)\n",
    "                fe_h_upper.append(np.nan)\n",
    "                \n",
    "    data['bacchus_{}_h_lower'.format(elem.lower())] = fe_h_lower\n",
    "    data['bacchus_{}_h'.format(elem.lower())] = fe_h\n",
    "    data['bacchus_{}_h_upper'.format(elem.lower())] = fe_h_upper\n",
    "    return data"
   ]
  },
  {
   "cell_type": "code",
   "execution_count": 9,
   "id": "cd71df18-8c93-4d2a-8997-2960b9bede87",
   "metadata": {
    "scrolled": true
   },
   "outputs": [
    {
     "name": "stdout",
     "output_type": "stream",
     "text": [
      "Fe\n",
      "Mg\n",
      "Si\n",
      "Ca\n",
      "Ti\n",
      "Na\n",
      "Al\n",
      "K\n",
      "Sc\n",
      "V\n",
      "Cr\n",
      "Mn\n",
      "Co\n",
      "Ni\n",
      "Cu\n",
      "Zn\n",
      "Rb\n",
      "Sr\n",
      "Y\n",
      "Zr\n",
      "Mo\n",
      "Ba\n",
      "La\n",
      "Ce\n",
      "Nd\n",
      "Ru\n",
      "Sm\n",
      "Eu\n"
     ]
    }
   ],
   "source": [
    "for i in elements:\n",
    "    df =abund(df, i)\n",
    "    print(i)\n",
    "\n",
    "# df =abund(df, 'Fe')\n",
    "# df"
   ]
  },
  {
   "cell_type": "code",
   "execution_count": 10,
   "id": "5b99a114-758a-4fc8-89ab-0a42c09111f1",
   "metadata": {
    "scrolled": true
   },
   "outputs": [
    {
     "data": {
      "text/html": [
       "<div>\n",
       "<style scoped>\n",
       "    .dataframe tbody tr th:only-of-type {\n",
       "        vertical-align: middle;\n",
       "    }\n",
       "\n",
       "    .dataframe tbody tr th {\n",
       "        vertical-align: top;\n",
       "    }\n",
       "\n",
       "    .dataframe thead th {\n",
       "        text-align: right;\n",
       "    }\n",
       "</style>\n",
       "<table border=\"1\" class=\"dataframe\">\n",
       "  <thead>\n",
       "    <tr style=\"text-align: right;\">\n",
       "      <th></th>\n",
       "      <th>sobject_id</th>\n",
       "      <th>iso_teff</th>\n",
       "      <th>iso_logg</th>\n",
       "      <th>iso_fe_h</th>\n",
       "      <th>iso_vmicro</th>\n",
       "      <th>cluster</th>\n",
       "      <th>name</th>\n",
       "      <th>star_obj</th>\n",
       "      <th>bacchus_fe_h_lower</th>\n",
       "      <th>bacchus_fe_h</th>\n",
       "      <th>...</th>\n",
       "      <th>bacchus_nd_h_upper</th>\n",
       "      <th>bacchus_ru_h_lower</th>\n",
       "      <th>bacchus_ru_h</th>\n",
       "      <th>bacchus_ru_h_upper</th>\n",
       "      <th>bacchus_sm_h_lower</th>\n",
       "      <th>bacchus_sm_h</th>\n",
       "      <th>bacchus_sm_h_upper</th>\n",
       "      <th>bacchus_eu_h_lower</th>\n",
       "      <th>bacchus_eu_h</th>\n",
       "      <th>bacchus_eu_h_upper</th>\n",
       "    </tr>\n",
       "  </thead>\n",
       "  <tbody>\n",
       "    <tr>\n",
       "      <th>9</th>\n",
       "      <td>190211002201339</td>\n",
       "      <td>5551.383529</td>\n",
       "      <td>4.225506</td>\n",
       "      <td>0.132314</td>\n",
       "      <td>1.624</td>\n",
       "      <td>ASCC_18</td>\n",
       "      <td>galah_id_190211002201339</td>\n",
       "      <td>&lt;PyBACCHUS.star.Star object at 0x7f4dfd9757c0&gt;</td>\n",
       "      <td>7.403</td>\n",
       "      <td>7.403</td>\n",
       "      <td>...</td>\n",
       "      <td>1.046</td>\n",
       "      <td>NaN</td>\n",
       "      <td>NaN</td>\n",
       "      <td>NaN</td>\n",
       "      <td>NaN</td>\n",
       "      <td>NaN</td>\n",
       "      <td>NaN</td>\n",
       "      <td>NaN</td>\n",
       "      <td>NaN</td>\n",
       "      <td>NaN</td>\n",
       "    </tr>\n",
       "    <tr>\n",
       "      <th>10</th>\n",
       "      <td>190211001601145</td>\n",
       "      <td>5361.449738</td>\n",
       "      <td>4.275517</td>\n",
       "      <td>0.127490</td>\n",
       "      <td>1.648</td>\n",
       "      <td>ASCC_18</td>\n",
       "      <td>galah_id_190211001601145</td>\n",
       "      <td>&lt;PyBACCHUS.star.Star object at 0x7f4dfe40e960&gt;</td>\n",
       "      <td>7.511</td>\n",
       "      <td>7.511</td>\n",
       "      <td>...</td>\n",
       "      <td>NaN</td>\n",
       "      <td>NaN</td>\n",
       "      <td>NaN</td>\n",
       "      <td>NaN</td>\n",
       "      <td>NaN</td>\n",
       "      <td>NaN</td>\n",
       "      <td>NaN</td>\n",
       "      <td>NaN</td>\n",
       "      <td>NaN</td>\n",
       "      <td>NaN</td>\n",
       "    </tr>\n",
       "  </tbody>\n",
       "</table>\n",
       "<p>2 rows × 92 columns</p>\n",
       "</div>"
      ],
      "text/plain": [
       "         sobject_id     iso_teff  iso_logg  iso_fe_h  iso_vmicro  cluster  \\\n",
       "9   190211002201339  5551.383529  4.225506  0.132314       1.624  ASCC_18   \n",
       "10  190211001601145  5361.449738  4.275517  0.127490       1.648  ASCC_18   \n",
       "\n",
       "                        name                                        star_obj  \\\n",
       "9   galah_id_190211002201339  <PyBACCHUS.star.Star object at 0x7f4dfd9757c0>   \n",
       "10  galah_id_190211001601145  <PyBACCHUS.star.Star object at 0x7f4dfe40e960>   \n",
       "\n",
       "    bacchus_fe_h_lower  bacchus_fe_h  ...  bacchus_nd_h_upper  \\\n",
       "9                7.403         7.403  ...               1.046   \n",
       "10               7.511         7.511  ...                 NaN   \n",
       "\n",
       "    bacchus_ru_h_lower  bacchus_ru_h  bacchus_ru_h_upper  bacchus_sm_h_lower  \\\n",
       "9                  NaN           NaN                 NaN                 NaN   \n",
       "10                 NaN           NaN                 NaN                 NaN   \n",
       "\n",
       "    bacchus_sm_h  bacchus_sm_h_upper  bacchus_eu_h_lower  bacchus_eu_h  \\\n",
       "9            NaN                 NaN                 NaN           NaN   \n",
       "10           NaN                 NaN                 NaN           NaN   \n",
       "\n",
       "    bacchus_eu_h_upper  \n",
       "9                  NaN  \n",
       "10                 NaN  \n",
       "\n",
       "[2 rows x 92 columns]"
      ]
     },
     "execution_count": 10,
     "metadata": {},
     "output_type": "execute_result"
    }
   ],
   "source": [
    "# fe_h_lower = []\n",
    "# fe_h = []\n",
    "# fe_h_upper = []\n",
    "# for i in range(len(data['star_obj'])):\n",
    "#     star = data['star_obj'][i]\n",
    "#     if star == None:\n",
    "#         fe_h_lower.append(np.nan)\n",
    "#         fe_h.append(np.nan)\n",
    "#         fe_h_upper.append(np.nan)\n",
    "#     else:\n",
    "#         star.get_par(bpath + names[i] + '/')\n",
    "#         try:\n",
    "#             star.get_abundance('Fe')\n",
    "#             x_h = star.Abundance['Fe'].ABU.get()\n",
    "#             res = remove_bad_abundance(x_h, 'flag_chi2', 1)\n",
    "#             lower, med, upper = get_A_x(res, 'chi2')\n",
    "#             fe_h_lower.append(lower)\n",
    "#             fe_h.append(med)\n",
    "#             fe_h_upper.append(upper)\n",
    "#         except:\n",
    "#             fe_h_lower.append(np.nan)\n",
    "#             fe_h.append(np.nan)\n",
    "#             fe_h_upper.append(np.nan)\n",
    "\n",
    "df = df[np.isfinite(df['bacchus_fe_h'])]\n",
    "df"
   ]
  },
  {
   "cell_type": "code",
   "execution_count": 32,
   "id": "e077ed9a-d257-438a-8b82-190385390678",
   "metadata": {},
   "outputs": [],
   "source": [
    "# data['bacchus_fe_h_lower'] = fe_h_lower\n",
    "# data['bacchus_fe_h'] = fe_h\n",
    "# data['bacchus_fe_h_upper'] = fe_h_upper\n",
    "ascc_18 = df[df['cluster']=='ASCC_18']\n",
    "collinder_69 = df[df['cluster']=='Collinder_69']"
   ]
  },
  {
   "cell_type": "code",
   "execution_count": 33,
   "id": "f1feeb5e-b205-4fd4-9837-a5f8283cda00",
   "metadata": {},
   "outputs": [
    {
     "name": "stdout",
     "output_type": "stream",
     "text": [
      "0.38412691912960234\n",
      "0.03326237094927494\n"
     ]
    },
    {
     "data": {
      "text/plain": [
       "<matplotlib.collections.PathCollection at 0x7facb8b85730>"
      ]
     },
     "execution_count": 33,
     "metadata": {},
     "output_type": "execute_result"
    },
    {
     "data": {
      "image/png": "[encoded data removed]",
      "text/plain": [
       "<Figure size 640x480 with 1 Axes>"
      ]
     },
     "metadata": {},
     "output_type": "display_data"
    },
    {
     "data": {
      "image/png": "[encoded data removed]",
      "text/plain": [
       "<Figure size 640x480 with 1 Axes>"
      ]
     },
     "metadata": {},
     "output_type": "display_data"
    },
    {
     "data": {
      "image/png": "[encoded data removed]",
      "text/plain": [
       "<Figure size 640x480 with 1 Axes>"
      ]
     },
     "metadata": {},
     "output_type": "display_data"
    }
   ],
   "source": [
    "#Collinder 69\n",
    "elem = 'fe'\n",
    "plt.figure()\n",
    "plt.errorbar(collinder_69['iso_teff'],collinder_69['iso_logg'], xerr=75,yerr=0.075,fmt='o')\n",
    "plt.gca().invert_xaxis()\n",
    "plt.gca().invert_yaxis()\n",
    "\n",
    "plt.figure()\n",
    "plt.hist(collinder_69['bacchus_{}_h'.format(elem)] - 7.45)\n",
    "plt.hist(collinder_69['iso_fe_h'])\n",
    "print(np.nanstd(collinder_69['bacchus_{}_h'.format(elem)]))\n",
    "print(np.nanstd(collinder_69['iso_fe_h']))\n",
    "\n",
    "plt.figure()\n",
    "plt.scatter(collinder_69['iso_teff'], collinder_69['bacchus_{}_h'.format(elem)])"
   ]
  },
  {
   "cell_type": "code",
   "execution_count": 35,
   "id": "899d3d47-f918-49c1-b3fd-9ed7f936eb6f",
   "metadata": {},
   "outputs": [
    {
     "name": "stdout",
     "output_type": "stream",
     "text": [
      "0.4356920421072154\n",
      "0.05692518948470053\n"
     ]
    },
    {
     "data": {
      "text/plain": [
       "<matplotlib.collections.PathCollection at 0x7facb8b42000>"
      ]
     },
     "execution_count": 35,
     "metadata": {},
     "output_type": "execute_result"
    },
    {
     "data": {
      "image/png": "[encoded data removed]",
      "text/plain": [
       "<Figure size 640x480 with 1 Axes>"
      ]
     },
     "metadata": {},
     "output_type": "display_data"
    },
    {
     "data": {
      "image/png": "[encoded data removed]",
      "text/plain": [
       "<Figure size 640x480 with 1 Axes>"
      ]
     },
     "metadata": {},
     "output_type": "display_data"
    },
    {
     "data": {
      "image/png": "[encoded data removed]",
      "text/plain": [
       "<Figure size 640x480 with 1 Axes>"
      ]
     },
     "metadata": {},
     "output_type": "display_data"
    }
   ],
   "source": [
    "#ASCC 18\n",
    "elem = 'fe'\n",
    "plt.errorbar(ascc_18['iso_teff'],ascc_18['iso_logg'], xerr=75,yerr=0.075,fmt='o')\n",
    "plt.gca().invert_xaxis()\n",
    "plt.gca().invert_yaxis()\n",
    "\n",
    "plt.figure()\n",
    "plt.hist(ascc_18['bacchus_{}_h'.format(elem)] - 7.45)\n",
    "plt.hist(ascc_18['iso_fe_h'])\n",
    "print(np.nanstd(ascc_18['bacchus_{}_h'.format(elem)]))\n",
    "print(np.nanstd(ascc_18['iso_fe_h']))\n",
    "\n",
    "plt.figure()\n",
    "plt.scatter(ascc_18['iso_teff'], ascc_18['bacchus_{}_h'.format(elem)])"
   ]
  },
  {
   "cell_type": "code",
   "execution_count": null,
   "id": "c4dad5df-52ab-4132-9a5e-67eddd183baa",
   "metadata": {},
   "outputs": [],
   "source": []
  }
 ],
 "metadata": {
  "kernelspec": {
   "display_name": "Python 3 (ipykernel)",
   "language": "python",
   "name": "python3"
  },
  "language_info": {
   "codemirror_mode": {
    "name": "ipython",
    "version": 3
   },
   "file_extension": ".py",
   "mimetype": "text/x-python",
   "name": "python",
   "nbconvert_exporter": "python",
   "pygments_lexer": "ipython3",
   "version": "3.12.5"
  }
 },
 "nbformat": 4,
 "nbformat_minor": 5
}
